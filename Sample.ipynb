{
  "cells": [
    {
      "cell_type": "markdown",
      "metadata": {
        "id": "view-in-github",
        "colab_type": "text"
      },
      "source": [
        "<a href=\"https://colab.research.google.com/github/Pallab07-Code/MQTT-Thesis-Repo/blob/main/Sample.ipynb\" target=\"_parent\"><img src=\"https://colab.research.google.com/assets/colab-badge.svg\" alt=\"Open In Colab\"/></a>"
      ]
    },
    {
      "cell_type": "markdown",
      "metadata": {
        "id": "J_ZqLf-9D4Xy"
      },
      "source": [
        "# Message Query Telemetry Transport"
      ]
    },
    {
      "cell_type": "code",
      "execution_count": null,
      "metadata": {
        "id": "5oYBl54j4AhL"
      },
      "outputs": [],
      "source": [
        "import numpy as np\n",
        "import pandas as pd\n",
        "from sklearn.model_selection import train_test_split\n",
        "from sklearn.linear_model import LogisticRegression\n",
        "from sklearn.metrics import accuracy_score\n",
        "from sklearn.metrics import precision_score\n",
        "from sklearn.metrics import recall_score\n",
        "from sklearn.metrics import f1_score\n",
        "from sklearn.metrics import confusion_matrix\n",
        "from sklearn.metrics import classification_report\n",
        "import seaborn as sns\n",
        "import matplotlib.pyplot as plt\n",
        "from sklearn.metrics import roc_curve\n",
        "from sklearn.metrics import auc\n",
        "from sklearn.metrics import roc_auc_score"
      ]
    },
    {
      "cell_type": "code",
      "execution_count": null,
      "metadata": {
        "colab": {
          "base_uri": "https://localhost:8080/",
          "height": 206
        },
        "id": "83FZZiI84pHm",
        "outputId": "177e06cb-9e6f-43b2-8b3f-ead2e4719450"
      },
      "outputs": [
        {
          "output_type": "execute_result",
          "data": {
            "text/plain": [
              "   State_CON  State_FIN      DstRate      SrcRate        Dur          Rate  \\\n",
              "0          1          0  1865.671631  1865.671631   0.000536   5597.014648   \n",
              "1          1          0     0.460668     0.460668  58.610584      0.938397   \n",
              "2          0          1     0.187310     0.187310  16.016258      0.437056   \n",
              "3          1          0  5917.159668  5917.159668   0.000169  17751.478516   \n",
              "4          1          0  5780.347168  5780.347168   0.000173  17341.041016   \n",
              "\n",
              "     TcpRtt    AckDat    SynAck          Load  Class  \n",
              "0  0.000363  0.000260  0.000103  2.000000e+06    2.0  \n",
              "1  0.000221  0.000107  0.000114  9.030451e+02    2.0  \n",
              "2  0.007033  0.006826  0.000207  2.067899e+02    1.0  \n",
              "3  0.000220  0.000111  0.000109  6.343195e+06    2.0  \n",
              "4  0.000316  0.000213  0.000103  6.196532e+06    2.0  "
            ],
            "text/html": [
              "\n",
              "  <div id=\"df-3c1e0bcf-d5b3-4886-bfdf-21879bc7b5d7\">\n",
              "    <div class=\"colab-df-container\">\n",
              "      <div>\n",
              "<style scoped>\n",
              "    .dataframe tbody tr th:only-of-type {\n",
              "        vertical-align: middle;\n",
              "    }\n",
              "\n",
              "    .dataframe tbody tr th {\n",
              "        vertical-align: top;\n",
              "    }\n",
              "\n",
              "    .dataframe thead th {\n",
              "        text-align: right;\n",
              "    }\n",
              "</style>\n",
              "<table border=\"1\" class=\"dataframe\">\n",
              "  <thead>\n",
              "    <tr style=\"text-align: right;\">\n",
              "      <th></th>\n",
              "      <th>State_CON</th>\n",
              "      <th>State_FIN</th>\n",
              "      <th>DstRate</th>\n",
              "      <th>SrcRate</th>\n",
              "      <th>Dur</th>\n",
              "      <th>Rate</th>\n",
              "      <th>TcpRtt</th>\n",
              "      <th>AckDat</th>\n",
              "      <th>SynAck</th>\n",
              "      <th>Load</th>\n",
              "      <th>Class</th>\n",
              "    </tr>\n",
              "  </thead>\n",
              "  <tbody>\n",
              "    <tr>\n",
              "      <th>0</th>\n",
              "      <td>1</td>\n",
              "      <td>0</td>\n",
              "      <td>1865.671631</td>\n",
              "      <td>1865.671631</td>\n",
              "      <td>0.000536</td>\n",
              "      <td>5597.014648</td>\n",
              "      <td>0.000363</td>\n",
              "      <td>0.000260</td>\n",
              "      <td>0.000103</td>\n",
              "      <td>2.000000e+06</td>\n",
              "      <td>2.0</td>\n",
              "    </tr>\n",
              "    <tr>\n",
              "      <th>1</th>\n",
              "      <td>1</td>\n",
              "      <td>0</td>\n",
              "      <td>0.460668</td>\n",
              "      <td>0.460668</td>\n",
              "      <td>58.610584</td>\n",
              "      <td>0.938397</td>\n",
              "      <td>0.000221</td>\n",
              "      <td>0.000107</td>\n",
              "      <td>0.000114</td>\n",
              "      <td>9.030451e+02</td>\n",
              "      <td>2.0</td>\n",
              "    </tr>\n",
              "    <tr>\n",
              "      <th>2</th>\n",
              "      <td>0</td>\n",
              "      <td>1</td>\n",
              "      <td>0.187310</td>\n",
              "      <td>0.187310</td>\n",
              "      <td>16.016258</td>\n",
              "      <td>0.437056</td>\n",
              "      <td>0.007033</td>\n",
              "      <td>0.006826</td>\n",
              "      <td>0.000207</td>\n",
              "      <td>2.067899e+02</td>\n",
              "      <td>1.0</td>\n",
              "    </tr>\n",
              "    <tr>\n",
              "      <th>3</th>\n",
              "      <td>1</td>\n",
              "      <td>0</td>\n",
              "      <td>5917.159668</td>\n",
              "      <td>5917.159668</td>\n",
              "      <td>0.000169</td>\n",
              "      <td>17751.478516</td>\n",
              "      <td>0.000220</td>\n",
              "      <td>0.000111</td>\n",
              "      <td>0.000109</td>\n",
              "      <td>6.343195e+06</td>\n",
              "      <td>2.0</td>\n",
              "    </tr>\n",
              "    <tr>\n",
              "      <th>4</th>\n",
              "      <td>1</td>\n",
              "      <td>0</td>\n",
              "      <td>5780.347168</td>\n",
              "      <td>5780.347168</td>\n",
              "      <td>0.000173</td>\n",
              "      <td>17341.041016</td>\n",
              "      <td>0.000316</td>\n",
              "      <td>0.000213</td>\n",
              "      <td>0.000103</td>\n",
              "      <td>6.196532e+06</td>\n",
              "      <td>2.0</td>\n",
              "    </tr>\n",
              "  </tbody>\n",
              "</table>\n",
              "</div>\n",
              "      <button class=\"colab-df-convert\" onclick=\"convertToInteractive('df-3c1e0bcf-d5b3-4886-bfdf-21879bc7b5d7')\"\n",
              "              title=\"Convert this dataframe to an interactive table.\"\n",
              "              style=\"display:none;\">\n",
              "        \n",
              "  <svg xmlns=\"http://www.w3.org/2000/svg\" height=\"24px\"viewBox=\"0 0 24 24\"\n",
              "       width=\"24px\">\n",
              "    <path d=\"M0 0h24v24H0V0z\" fill=\"none\"/>\n",
              "    <path d=\"M18.56 5.44l.94 2.06.94-2.06 2.06-.94-2.06-.94-.94-2.06-.94 2.06-2.06.94zm-11 1L8.5 8.5l.94-2.06 2.06-.94-2.06-.94L8.5 2.5l-.94 2.06-2.06.94zm10 10l.94 2.06.94-2.06 2.06-.94-2.06-.94-.94-2.06-.94 2.06-2.06.94z\"/><path d=\"M17.41 7.96l-1.37-1.37c-.4-.4-.92-.59-1.43-.59-.52 0-1.04.2-1.43.59L10.3 9.45l-7.72 7.72c-.78.78-.78 2.05 0 2.83L4 21.41c.39.39.9.59 1.41.59.51 0 1.02-.2 1.41-.59l7.78-7.78 2.81-2.81c.8-.78.8-2.07 0-2.86zM5.41 20L4 18.59l7.72-7.72 1.47 1.35L5.41 20z\"/>\n",
              "  </svg>\n",
              "      </button>\n",
              "      \n",
              "  <style>\n",
              "    .colab-df-container {\n",
              "      display:flex;\n",
              "      flex-wrap:wrap;\n",
              "      gap: 12px;\n",
              "    }\n",
              "\n",
              "    .colab-df-convert {\n",
              "      background-color: #E8F0FE;\n",
              "      border: none;\n",
              "      border-radius: 50%;\n",
              "      cursor: pointer;\n",
              "      display: none;\n",
              "      fill: #1967D2;\n",
              "      height: 32px;\n",
              "      padding: 0 0 0 0;\n",
              "      width: 32px;\n",
              "    }\n",
              "\n",
              "    .colab-df-convert:hover {\n",
              "      background-color: #E2EBFA;\n",
              "      box-shadow: 0px 1px 2px rgba(60, 64, 67, 0.3), 0px 1px 3px 1px rgba(60, 64, 67, 0.15);\n",
              "      fill: #174EA6;\n",
              "    }\n",
              "\n",
              "    [theme=dark] .colab-df-convert {\n",
              "      background-color: #3B4455;\n",
              "      fill: #D2E3FC;\n",
              "    }\n",
              "\n",
              "    [theme=dark] .colab-df-convert:hover {\n",
              "      background-color: #434B5C;\n",
              "      box-shadow: 0px 1px 3px 1px rgba(0, 0, 0, 0.15);\n",
              "      filter: drop-shadow(0px 1px 2px rgba(0, 0, 0, 0.3));\n",
              "      fill: #FFFFFF;\n",
              "    }\n",
              "  </style>\n",
              "\n",
              "      <script>\n",
              "        const buttonEl =\n",
              "          document.querySelector('#df-3c1e0bcf-d5b3-4886-bfdf-21879bc7b5d7 button.colab-df-convert');\n",
              "        buttonEl.style.display =\n",
              "          google.colab.kernel.accessAllowed ? 'block' : 'none';\n",
              "\n",
              "        async function convertToInteractive(key) {\n",
              "          const element = document.querySelector('#df-3c1e0bcf-d5b3-4886-bfdf-21879bc7b5d7');\n",
              "          const dataTable =\n",
              "            await google.colab.kernel.invokeFunction('convertToInteractive',\n",
              "                                                     [key], {});\n",
              "          if (!dataTable) return;\n",
              "\n",
              "          const docLinkHtml = 'Like what you see? Visit the ' +\n",
              "            '<a target=\"_blank\" href=https://colab.research.google.com/notebooks/data_table.ipynb>data table notebook</a>'\n",
              "            + ' to learn more about interactive tables.';\n",
              "          element.innerHTML = '';\n",
              "          dataTable['output_type'] = 'display_data';\n",
              "          await google.colab.output.renderOutput(dataTable, element);\n",
              "          const docLink = document.createElement('div');\n",
              "          docLink.innerHTML = docLinkHtml;\n",
              "          element.appendChild(docLink);\n",
              "        }\n",
              "      </script>\n",
              "    </div>\n",
              "  </div>\n",
              "  "
            ]
          },
          "metadata": {},
          "execution_count": 2
        }
      ],
      "source": [
        "nsrdata = pd.read_csv('/content/binary_anova_features.csv')\n",
        "nsrdata.head()"
      ]
    },
    {
      "cell_type": "code",
      "execution_count": null,
      "metadata": {
        "colab": {
          "base_uri": "https://localhost:8080/",
          "height": 300
        },
        "id": "0AydWkfL4yYp",
        "outputId": "1096e5d1-94f8-492b-da04-aac5198dff16"
      },
      "outputs": [
        {
          "output_type": "execute_result",
          "data": {
            "text/plain": [
              "         State_CON    State_FIN      DstRate      SrcRate          Dur  \\\n",
              "count  1000.000000  1000.000000  1000.000000  1000.000000  1000.000000   \n",
              "mean      0.598000     0.369000   957.933441   970.470884    15.104639   \n",
              "std       0.490547     0.482775  1706.679697  1710.385632    21.641908   \n",
              "min       0.000000     0.000000     0.000000     0.000000     0.000000   \n",
              "25%       0.000000     0.000000     0.187251     0.187265     0.000520   \n",
              "50%       1.000000     0.000000     4.448836     4.448223     0.028632   \n",
              "75%       1.000000     1.000000  1488.649658  1591.166077    28.753134   \n",
              "max       1.000000     1.000000  8849.557617  8849.557617    59.998638   \n",
              "\n",
              "               Rate       TcpRtt       AckDat       SynAck          Load  \\\n",
              "count   1000.000000  1000.000000  1000.000000  1000.000000  1.000000e+03   \n",
              "mean    3160.949370     0.005722     0.005557     0.000165  1.233210e+06   \n",
              "std     5190.605490     0.012846     0.012818     0.000123  2.959852e+06   \n",
              "min        0.000000     0.000000     0.000000     0.000000  0.000000e+00   \n",
              "25%        0.685754     0.000316     0.000213     0.000107  3.107615e+02   \n",
              "50%      151.966065     0.000452     0.000322     0.000130  8.965989e+03   \n",
              "75%     5405.405762     0.006358     0.006138     0.000194  1.729751e+06   \n",
              "max    26548.671875     0.241681     0.241569     0.002875  3.289159e+07   \n",
              "\n",
              "            Class  \n",
              "count  1000.00000  \n",
              "mean      1.50000  \n",
              "std       0.50025  \n",
              "min       1.00000  \n",
              "25%       1.00000  \n",
              "50%       1.50000  \n",
              "75%       2.00000  \n",
              "max       2.00000  "
            ],
            "text/html": [
              "\n",
              "  <div id=\"df-d887e8a6-401f-47ff-852b-8b2f262eb43c\">\n",
              "    <div class=\"colab-df-container\">\n",
              "      <div>\n",
              "<style scoped>\n",
              "    .dataframe tbody tr th:only-of-type {\n",
              "        vertical-align: middle;\n",
              "    }\n",
              "\n",
              "    .dataframe tbody tr th {\n",
              "        vertical-align: top;\n",
              "    }\n",
              "\n",
              "    .dataframe thead th {\n",
              "        text-align: right;\n",
              "    }\n",
              "</style>\n",
              "<table border=\"1\" class=\"dataframe\">\n",
              "  <thead>\n",
              "    <tr style=\"text-align: right;\">\n",
              "      <th></th>\n",
              "      <th>State_CON</th>\n",
              "      <th>State_FIN</th>\n",
              "      <th>DstRate</th>\n",
              "      <th>SrcRate</th>\n",
              "      <th>Dur</th>\n",
              "      <th>Rate</th>\n",
              "      <th>TcpRtt</th>\n",
              "      <th>AckDat</th>\n",
              "      <th>SynAck</th>\n",
              "      <th>Load</th>\n",
              "      <th>Class</th>\n",
              "    </tr>\n",
              "  </thead>\n",
              "  <tbody>\n",
              "    <tr>\n",
              "      <th>count</th>\n",
              "      <td>1000.000000</td>\n",
              "      <td>1000.000000</td>\n",
              "      <td>1000.000000</td>\n",
              "      <td>1000.000000</td>\n",
              "      <td>1000.000000</td>\n",
              "      <td>1000.000000</td>\n",
              "      <td>1000.000000</td>\n",
              "      <td>1000.000000</td>\n",
              "      <td>1000.000000</td>\n",
              "      <td>1.000000e+03</td>\n",
              "      <td>1000.00000</td>\n",
              "    </tr>\n",
              "    <tr>\n",
              "      <th>mean</th>\n",
              "      <td>0.598000</td>\n",
              "      <td>0.369000</td>\n",
              "      <td>957.933441</td>\n",
              "      <td>970.470884</td>\n",
              "      <td>15.104639</td>\n",
              "      <td>3160.949370</td>\n",
              "      <td>0.005722</td>\n",
              "      <td>0.005557</td>\n",
              "      <td>0.000165</td>\n",
              "      <td>1.233210e+06</td>\n",
              "      <td>1.50000</td>\n",
              "    </tr>\n",
              "    <tr>\n",
              "      <th>std</th>\n",
              "      <td>0.490547</td>\n",
              "      <td>0.482775</td>\n",
              "      <td>1706.679697</td>\n",
              "      <td>1710.385632</td>\n",
              "      <td>21.641908</td>\n",
              "      <td>5190.605490</td>\n",
              "      <td>0.012846</td>\n",
              "      <td>0.012818</td>\n",
              "      <td>0.000123</td>\n",
              "      <td>2.959852e+06</td>\n",
              "      <td>0.50025</td>\n",
              "    </tr>\n",
              "    <tr>\n",
              "      <th>min</th>\n",
              "      <td>0.000000</td>\n",
              "      <td>0.000000</td>\n",
              "      <td>0.000000</td>\n",
              "      <td>0.000000</td>\n",
              "      <td>0.000000</td>\n",
              "      <td>0.000000</td>\n",
              "      <td>0.000000</td>\n",
              "      <td>0.000000</td>\n",
              "      <td>0.000000</td>\n",
              "      <td>0.000000e+00</td>\n",
              "      <td>1.00000</td>\n",
              "    </tr>\n",
              "    <tr>\n",
              "      <th>25%</th>\n",
              "      <td>0.000000</td>\n",
              "      <td>0.000000</td>\n",
              "      <td>0.187251</td>\n",
              "      <td>0.187265</td>\n",
              "      <td>0.000520</td>\n",
              "      <td>0.685754</td>\n",
              "      <td>0.000316</td>\n",
              "      <td>0.000213</td>\n",
              "      <td>0.000107</td>\n",
              "      <td>3.107615e+02</td>\n",
              "      <td>1.00000</td>\n",
              "    </tr>\n",
              "    <tr>\n",
              "      <th>50%</th>\n",
              "      <td>1.000000</td>\n",
              "      <td>0.000000</td>\n",
              "      <td>4.448836</td>\n",
              "      <td>4.448223</td>\n",
              "      <td>0.028632</td>\n",
              "      <td>151.966065</td>\n",
              "      <td>0.000452</td>\n",
              "      <td>0.000322</td>\n",
              "      <td>0.000130</td>\n",
              "      <td>8.965989e+03</td>\n",
              "      <td>1.50000</td>\n",
              "    </tr>\n",
              "    <tr>\n",
              "      <th>75%</th>\n",
              "      <td>1.000000</td>\n",
              "      <td>1.000000</td>\n",
              "      <td>1488.649658</td>\n",
              "      <td>1591.166077</td>\n",
              "      <td>28.753134</td>\n",
              "      <td>5405.405762</td>\n",
              "      <td>0.006358</td>\n",
              "      <td>0.006138</td>\n",
              "      <td>0.000194</td>\n",
              "      <td>1.729751e+06</td>\n",
              "      <td>2.00000</td>\n",
              "    </tr>\n",
              "    <tr>\n",
              "      <th>max</th>\n",
              "      <td>1.000000</td>\n",
              "      <td>1.000000</td>\n",
              "      <td>8849.557617</td>\n",
              "      <td>8849.557617</td>\n",
              "      <td>59.998638</td>\n",
              "      <td>26548.671875</td>\n",
              "      <td>0.241681</td>\n",
              "      <td>0.241569</td>\n",
              "      <td>0.002875</td>\n",
              "      <td>3.289159e+07</td>\n",
              "      <td>2.00000</td>\n",
              "    </tr>\n",
              "  </tbody>\n",
              "</table>\n",
              "</div>\n",
              "      <button class=\"colab-df-convert\" onclick=\"convertToInteractive('df-d887e8a6-401f-47ff-852b-8b2f262eb43c')\"\n",
              "              title=\"Convert this dataframe to an interactive table.\"\n",
              "              style=\"display:none;\">\n",
              "        \n",
              "  <svg xmlns=\"http://www.w3.org/2000/svg\" height=\"24px\"viewBox=\"0 0 24 24\"\n",
              "       width=\"24px\">\n",
              "    <path d=\"M0 0h24v24H0V0z\" fill=\"none\"/>\n",
              "    <path d=\"M18.56 5.44l.94 2.06.94-2.06 2.06-.94-2.06-.94-.94-2.06-.94 2.06-2.06.94zm-11 1L8.5 8.5l.94-2.06 2.06-.94-2.06-.94L8.5 2.5l-.94 2.06-2.06.94zm10 10l.94 2.06.94-2.06 2.06-.94-2.06-.94-.94-2.06-.94 2.06-2.06.94z\"/><path d=\"M17.41 7.96l-1.37-1.37c-.4-.4-.92-.59-1.43-.59-.52 0-1.04.2-1.43.59L10.3 9.45l-7.72 7.72c-.78.78-.78 2.05 0 2.83L4 21.41c.39.39.9.59 1.41.59.51 0 1.02-.2 1.41-.59l7.78-7.78 2.81-2.81c.8-.78.8-2.07 0-2.86zM5.41 20L4 18.59l7.72-7.72 1.47 1.35L5.41 20z\"/>\n",
              "  </svg>\n",
              "      </button>\n",
              "      \n",
              "  <style>\n",
              "    .colab-df-container {\n",
              "      display:flex;\n",
              "      flex-wrap:wrap;\n",
              "      gap: 12px;\n",
              "    }\n",
              "\n",
              "    .colab-df-convert {\n",
              "      background-color: #E8F0FE;\n",
              "      border: none;\n",
              "      border-radius: 50%;\n",
              "      cursor: pointer;\n",
              "      display: none;\n",
              "      fill: #1967D2;\n",
              "      height: 32px;\n",
              "      padding: 0 0 0 0;\n",
              "      width: 32px;\n",
              "    }\n",
              "\n",
              "    .colab-df-convert:hover {\n",
              "      background-color: #E2EBFA;\n",
              "      box-shadow: 0px 1px 2px rgba(60, 64, 67, 0.3), 0px 1px 3px 1px rgba(60, 64, 67, 0.15);\n",
              "      fill: #174EA6;\n",
              "    }\n",
              "\n",
              "    [theme=dark] .colab-df-convert {\n",
              "      background-color: #3B4455;\n",
              "      fill: #D2E3FC;\n",
              "    }\n",
              "\n",
              "    [theme=dark] .colab-df-convert:hover {\n",
              "      background-color: #434B5C;\n",
              "      box-shadow: 0px 1px 3px 1px rgba(0, 0, 0, 0.15);\n",
              "      filter: drop-shadow(0px 1px 2px rgba(0, 0, 0, 0.3));\n",
              "      fill: #FFFFFF;\n",
              "    }\n",
              "  </style>\n",
              "\n",
              "      <script>\n",
              "        const buttonEl =\n",
              "          document.querySelector('#df-d887e8a6-401f-47ff-852b-8b2f262eb43c button.colab-df-convert');\n",
              "        buttonEl.style.display =\n",
              "          google.colab.kernel.accessAllowed ? 'block' : 'none';\n",
              "\n",
              "        async function convertToInteractive(key) {\n",
              "          const element = document.querySelector('#df-d887e8a6-401f-47ff-852b-8b2f262eb43c');\n",
              "          const dataTable =\n",
              "            await google.colab.kernel.invokeFunction('convertToInteractive',\n",
              "                                                     [key], {});\n",
              "          if (!dataTable) return;\n",
              "\n",
              "          const docLinkHtml = 'Like what you see? Visit the ' +\n",
              "            '<a target=\"_blank\" href=https://colab.research.google.com/notebooks/data_table.ipynb>data table notebook</a>'\n",
              "            + ' to learn more about interactive tables.';\n",
              "          element.innerHTML = '';\n",
              "          dataTable['output_type'] = 'display_data';\n",
              "          await google.colab.output.renderOutput(dataTable, element);\n",
              "          const docLink = document.createElement('div');\n",
              "          docLink.innerHTML = docLinkHtml;\n",
              "          element.appendChild(docLink);\n",
              "        }\n",
              "      </script>\n",
              "    </div>\n",
              "  </div>\n",
              "  "
            ]
          },
          "metadata": {},
          "execution_count": 3
        }
      ],
      "source": [
        "nsrdata.describe()"
      ]
    },
    {
      "cell_type": "code",
      "execution_count": null,
      "metadata": {
        "colab": {
          "base_uri": "https://localhost:8080/"
        },
        "id": "8iacVUqa43Cv",
        "outputId": "54cfe28c-7f41-4979-9cf8-e33eb92087f4"
      },
      "outputs": [
        {
          "output_type": "execute_result",
          "data": {
            "text/plain": [
              "(1000, 11)"
            ]
          },
          "metadata": {},
          "execution_count": 4
        }
      ],
      "source": [
        "nsrdata.shape"
      ]
    },
    {
      "cell_type": "code",
      "execution_count": null,
      "metadata": {
        "colab": {
          "base_uri": "https://localhost:8080/"
        },
        "id": "r9Jha5di5Pll",
        "outputId": "e8bbfb40-37e4-4604-f714-6b5d518732a7"
      },
      "outputs": [
        {
          "output_type": "stream",
          "name": "stdout",
          "text": [
            "<class 'pandas.core.frame.DataFrame'>\n",
            "RangeIndex: 1000 entries, 0 to 999\n",
            "Data columns (total 11 columns):\n",
            " #   Column     Non-Null Count  Dtype  \n",
            "---  ------     --------------  -----  \n",
            " 0   State_CON  1000 non-null   int64  \n",
            " 1   State_FIN  1000 non-null   int64  \n",
            " 2   DstRate    1000 non-null   float64\n",
            " 3   SrcRate    1000 non-null   float64\n",
            " 4   Dur        1000 non-null   float64\n",
            " 5   Rate       1000 non-null   float64\n",
            " 6   TcpRtt     1000 non-null   float64\n",
            " 7   AckDat     1000 non-null   float64\n",
            " 8   SynAck     1000 non-null   float64\n",
            " 9   Load       1000 non-null   float64\n",
            " 10  Class      1000 non-null   float64\n",
            "dtypes: float64(9), int64(2)\n",
            "memory usage: 86.1 KB\n"
          ]
        }
      ],
      "source": [
        "nsrdata.info()"
      ]
    },
    {
      "cell_type": "code",
      "execution_count": null,
      "metadata": {
        "colab": {
          "base_uri": "https://localhost:8080/"
        },
        "id": "vjrFcZ2_5U-H",
        "outputId": "cc19dac4-e463-4dd4-fca9-2c4f61da95e6"
      },
      "outputs": [
        {
          "output_type": "execute_result",
          "data": {
            "text/plain": [
              "State_CON    0\n",
              "State_FIN    0\n",
              "DstRate      0\n",
              "SrcRate      0\n",
              "Dur          0\n",
              "Rate         0\n",
              "TcpRtt       0\n",
              "AckDat       0\n",
              "SynAck       0\n",
              "Load         0\n",
              "Class        0\n",
              "dtype: int64"
            ]
          },
          "metadata": {},
          "execution_count": 6
        }
      ],
      "source": [
        "nsrdata.isnull().sum()"
      ]
    },
    {
      "cell_type": "code",
      "execution_count": null,
      "metadata": {
        "colab": {
          "base_uri": "https://localhost:8080/"
        },
        "id": "-Ih9Ah2IiYX2",
        "outputId": "77df3823-5fa5-421a-9541-be9a6b945ea0"
      },
      "outputs": [
        {
          "output_type": "execute_result",
          "data": {
            "text/plain": [
              "2.0    500\n",
              "1.0    500\n",
              "Name: Class, dtype: int64"
            ]
          },
          "metadata": {},
          "execution_count": 7
        }
      ],
      "source": [
        "nsrdata['Class'].value_counts()"
      ]
    },
    {
      "cell_type": "code",
      "execution_count": null,
      "metadata": {
        "id": "djIIuTq_5gd6"
      },
      "outputs": [],
      "source": [
        "Y = nsrdata.pop('Class')\n",
        "X = nsrdata"
      ]
    },
    {
      "cell_type": "code",
      "execution_count": null,
      "metadata": {
        "id": "qIMLJ4jHbl1h"
      },
      "outputs": [],
      "source": [
        "from sklearn.preprocessing import LabelEncoder\n",
        "labelencoder_y=LabelEncoder()\n",
        "Y=labelencoder_y.fit_transform(Y)"
      ]
    },
    {
      "cell_type": "code",
      "execution_count": null,
      "metadata": {
        "colab": {
          "base_uri": "https://localhost:8080/"
        },
        "id": "pSI97bde51bN",
        "outputId": "9ab3dfa8-b75f-40c7-d5cd-2df6fbf9b58e"
      },
      "outputs": [
        {
          "output_type": "execute_result",
          "data": {
            "text/plain": [
              "(1000,)"
            ]
          },
          "metadata": {},
          "execution_count": 10
        }
      ],
      "source": [
        "Y.shape"
      ]
    },
    {
      "cell_type": "code",
      "execution_count": null,
      "metadata": {
        "colab": {
          "base_uri": "https://localhost:8080/"
        },
        "id": "oRruPMzT59Es",
        "outputId": "449f3eb6-b1e3-4dd4-a5d8-6fadaa2c5bd5"
      },
      "outputs": [
        {
          "output_type": "stream",
          "name": "stdout",
          "text": [
            "[1 1 0 1 1 0 0 1 1 1 1 1 1 1 0 1 0 1 0 1 0 0 0 0 1 1 0 1 0 1 1 0 0 1 1 0 1\n",
            " 0 0 1 0 1 1 1 0 1 1 1 0 1 1 0 1 1 0 1 1 0 0 0 0 1 1 0 0 0 0 0 1 0 1 0 0 1\n",
            " 1 0 0 1 1 1 0 1 1 0 0 0 0 0 1 0 0 0 1 0 0 1 0 0 0 0 0 1 1 1 0 1 0 1 0 0 1\n",
            " 0 0 0 0 1 0 0 1 1 0 1 0 0 0 0 1 0 1 0 0 0 1 1 0 0 1 0 0 0 0 0 0 0 0 1 0 0\n",
            " 0 1 1 0 0 0 1 0 0 0 1 1 1 1 0 1 1 1 0 1 1 1 0 1 1 0 0 1 1 1 0 1 1 1 1 1 0\n",
            " 0 1 1 1 1 1 1 1 1 1 1 1 1 0 0 1 0 0 0 1 0 0 1 1 0 1 1 1 1 0 0 1 1 1 1 0 0\n",
            " 0 0 0 1 1 0 1 0 1 0 1 1 1 1 0 0 1 0 0 1 1 1 1 0 0 0 0 1 0 1 1 1 1 1 1 1 0\n",
            " 1 1 1 1 0 0 0 1 1 1 0 0 0 1 1 0 1 1 0 0 1 1 1 1 0 0 1 1 1 1 1 1 1 0 1 1 1\n",
            " 0 0 0 0 1 1 0 0 1 0 1 1 1 0 1 0 0 0 0 0 1 0 1 0 0 0 1 0 1 1 0 1 1 1 0 0 0\n",
            " 1 0 1 0 1 0 0 0 1 1 0 0 1 1 0 1 0 1 1 1 0 1 1 0 0 1 0 1 0 0 0 0 1 1 0 0 1\n",
            " 1 0 1 1 0 0 0 0 0 1 0 0 0 1 1 1 0 1 0 1 0 0 1 0 0 0 0 0 1 1 1 0 0 1 0 1 1\n",
            " 1 1 1 0 1 1 0 0 0 0 0 0 1 0 1 0 1 1 0 1 0 1 1 0 0 0 1 1 1 1 1 0 0 0 0 1 0\n",
            " 0 0 0 1 1 0 1 0 1 0 1 1 0 1 0 1 0 0 1 1 1 1 0 1 0 0 1 1 1 1 1 1 0 1 1 0 1\n",
            " 0 0 0 1 1 0 0 1 0 0 1 1 0 1 1 1 0 1 0 1 0 0 0 1 0 1 1 0 1 0 1 1 0 0 1 1 0\n",
            " 1 0 0 1 1 1 0 1 1 0 0 0 1 0 0 1 1 1 0 1 1 0 0 0 1 0 0 1 1 0 1 0 1 1 1 0 1\n",
            " 1 1 0 1 0 0 1 0 0 0 0 1 0 1 0 1 0 1 0 1 0 1 0 1 1 1 1 1 1 1 1 0 1 1 0 0 0\n",
            " 0 1 1 1 1 0 0 0 0 0 1 1 1 1 0 1 0 0 0 1 1 0 0 1 0 1 1 1 0 1 1 1 1 1 0 1 0\n",
            " 0 1 1 1 1 0 1 1 0 1 0 1 0 1 0 1 1 0 0 0 0 1 0 0 0 0 1 1 0 1 0 0 0 1 0 0 1\n",
            " 1 1 1 1 0 1 1 0 0 0 1 1 1 0 0 1 0 0 0 0 1 0 1 0 1 0 0 1 1 0 0 1 0 1 1 0 1\n",
            " 0 0 0 0 1 1 0 1 1 0 0 0 1 0 1 1 1 1 0 1 0 0 0 0 0 0 0 0 0 0 0 0 1 0 1 1 0\n",
            " 0 0 0 1 0 0 0 1 1 0 1 0 1 0 0 1 1 0 1 1 0 0 0 1 1 0 1 0 1 1 0 0 1 0 0 0 1\n",
            " 0 1 0 0 0 1 0 0 0 0 1 0 0 0 0 0 0 1 1 1 0 0 1 0 0 0 0 0 0 0 1 1 0 1 0 0 0\n",
            " 0 1 0 1 1 0 0 0 0 1 0 0 1 1 0 1 1 1 1 0 0 1 1 1 1 1 1 0 0 0 1 1 1 1 1 0 1\n",
            " 1 0 1 0 1 1 1 1 1 0 1 1 0 1 0 0 1 1 1 0 1 1 1 0 1 0 1 1 0 1 1 1 1 0 0 1 1\n",
            " 0 1 1 0 1 0 1 0 0 0 0 0 0 0 0 0 0 0 1 1 1 1 1 1 1 1 1 0 0 0 1 0 1 0 1 1 1\n",
            " 0 1 1 1 1 1 1 0 1 0 1 1 1 0 0 1 0 0 0 0 0 1 1 1 0 0 0 1 0 0 1 1 1 1 1 0 0\n",
            " 1 0 1 0 0 1 0 1 0 1 0 1 0 0 1 1 0 0 1 0 1 0 1 1 0 0 0 0 1 0 0 0 0 0 1 0 0\n",
            " 0]\n"
          ]
        }
      ],
      "source": [
        "print(Y)"
      ]
    },
    {
      "cell_type": "code",
      "execution_count": null,
      "metadata": {
        "id": "1aAZXadn6HfQ"
      },
      "outputs": [],
      "source": [
        "X_train, X_test, Y_train, Y_test = train_test_split( X, Y, test_size=0.3, random_state=42,shuffle=True)"
      ]
    },
    {
      "cell_type": "code",
      "execution_count": null,
      "metadata": {
        "id": "bohxPGxyiWt2"
      },
      "outputs": [],
      "source": [
        "#from sklearn.preprocessing import StandardScaler\n",
        "#scaler= StandardScaler()"
      ]
    },
    {
      "cell_type": "code",
      "execution_count": null,
      "metadata": {
        "id": "hWDcZxVViZAJ"
      },
      "outputs": [],
      "source": [
        "#X_train=scaler.fit_transform(X_train)"
      ]
    },
    {
      "cell_type": "code",
      "execution_count": null,
      "metadata": {
        "id": "cvn-0A1sinFK"
      },
      "outputs": [],
      "source": [
        "#X_test=scaler.fit_transform(X_test)"
      ]
    },
    {
      "cell_type": "code",
      "execution_count": null,
      "metadata": {
        "colab": {
          "base_uri": "https://localhost:8080/"
        },
        "id": "7oXS0SMw6WXC",
        "outputId": "96647852-7a45-4a5c-ec65-0eb008c6fd2a"
      },
      "outputs": [
        {
          "output_type": "execute_result",
          "data": {
            "text/plain": [
              "((700, 10), (300, 10))"
            ]
          },
          "metadata": {},
          "execution_count": 16
        }
      ],
      "source": [
        "X_train.shape, X_test.shape"
      ]
    },
    {
      "cell_type": "markdown",
      "metadata": {
        "id": "u7QLbRzUybsD"
      },
      "source": [
        "SVM"
      ]
    },
    {
      "cell_type": "code",
      "execution_count": null,
      "metadata": {
        "colab": {
          "base_uri": "https://localhost:8080/",
          "height": 75
        },
        "id": "uBd-hmGv6fYW",
        "outputId": "38ec8b9d-471c-4964-8445-f189218f8ad8"
      },
      "outputs": [
        {
          "output_type": "execute_result",
          "data": {
            "text/plain": [
              "SVC(probability=True)"
            ],
            "text/html": [
              "<style>#sk-container-id-1 {color: black;background-color: white;}#sk-container-id-1 pre{padding: 0;}#sk-container-id-1 div.sk-toggleable {background-color: white;}#sk-container-id-1 label.sk-toggleable__label {cursor: pointer;display: block;width: 100%;margin-bottom: 0;padding: 0.3em;box-sizing: border-box;text-align: center;}#sk-container-id-1 label.sk-toggleable__label-arrow:before {content: \"▸\";float: left;margin-right: 0.25em;color: #696969;}#sk-container-id-1 label.sk-toggleable__label-arrow:hover:before {color: black;}#sk-container-id-1 div.sk-estimator:hover label.sk-toggleable__label-arrow:before {color: black;}#sk-container-id-1 div.sk-toggleable__content {max-height: 0;max-width: 0;overflow: hidden;text-align: left;background-color: #f0f8ff;}#sk-container-id-1 div.sk-toggleable__content pre {margin: 0.2em;color: black;border-radius: 0.25em;background-color: #f0f8ff;}#sk-container-id-1 input.sk-toggleable__control:checked~div.sk-toggleable__content {max-height: 200px;max-width: 100%;overflow: auto;}#sk-container-id-1 input.sk-toggleable__control:checked~label.sk-toggleable__label-arrow:before {content: \"▾\";}#sk-container-id-1 div.sk-estimator input.sk-toggleable__control:checked~label.sk-toggleable__label {background-color: #d4ebff;}#sk-container-id-1 div.sk-label input.sk-toggleable__control:checked~label.sk-toggleable__label {background-color: #d4ebff;}#sk-container-id-1 input.sk-hidden--visually {border: 0;clip: rect(1px 1px 1px 1px);clip: rect(1px, 1px, 1px, 1px);height: 1px;margin: -1px;overflow: hidden;padding: 0;position: absolute;width: 1px;}#sk-container-id-1 div.sk-estimator {font-family: monospace;background-color: #f0f8ff;border: 1px dotted black;border-radius: 0.25em;box-sizing: border-box;margin-bottom: 0.5em;}#sk-container-id-1 div.sk-estimator:hover {background-color: #d4ebff;}#sk-container-id-1 div.sk-parallel-item::after {content: \"\";width: 100%;border-bottom: 1px solid gray;flex-grow: 1;}#sk-container-id-1 div.sk-label:hover label.sk-toggleable__label {background-color: #d4ebff;}#sk-container-id-1 div.sk-serial::before {content: \"\";position: absolute;border-left: 1px solid gray;box-sizing: border-box;top: 0;bottom: 0;left: 50%;z-index: 0;}#sk-container-id-1 div.sk-serial {display: flex;flex-direction: column;align-items: center;background-color: white;padding-right: 0.2em;padding-left: 0.2em;position: relative;}#sk-container-id-1 div.sk-item {position: relative;z-index: 1;}#sk-container-id-1 div.sk-parallel {display: flex;align-items: stretch;justify-content: center;background-color: white;position: relative;}#sk-container-id-1 div.sk-item::before, #sk-container-id-1 div.sk-parallel-item::before {content: \"\";position: absolute;border-left: 1px solid gray;box-sizing: border-box;top: 0;bottom: 0;left: 50%;z-index: -1;}#sk-container-id-1 div.sk-parallel-item {display: flex;flex-direction: column;z-index: 1;position: relative;background-color: white;}#sk-container-id-1 div.sk-parallel-item:first-child::after {align-self: flex-end;width: 50%;}#sk-container-id-1 div.sk-parallel-item:last-child::after {align-self: flex-start;width: 50%;}#sk-container-id-1 div.sk-parallel-item:only-child::after {width: 0;}#sk-container-id-1 div.sk-dashed-wrapped {border: 1px dashed gray;margin: 0 0.4em 0.5em 0.4em;box-sizing: border-box;padding-bottom: 0.4em;background-color: white;}#sk-container-id-1 div.sk-label label {font-family: monospace;font-weight: bold;display: inline-block;line-height: 1.2em;}#sk-container-id-1 div.sk-label-container {text-align: center;}#sk-container-id-1 div.sk-container {/* jupyter's `normalize.less` sets `[hidden] { display: none; }` but bootstrap.min.css set `[hidden] { display: none !important; }` so we also need the `!important` here to be able to override the default hidden behavior on the sphinx rendered scikit-learn.org. See: https://github.com/scikit-learn/scikit-learn/issues/21755 */display: inline-block !important;position: relative;}#sk-container-id-1 div.sk-text-repr-fallback {display: none;}</style><div id=\"sk-container-id-1\" class=\"sk-top-container\"><div class=\"sk-text-repr-fallback\"><pre>SVC(probability=True)</pre><b>In a Jupyter environment, please rerun this cell to show the HTML representation or trust the notebook. <br />On GitHub, the HTML representation is unable to render, please try loading this page with nbviewer.org.</b></div><div class=\"sk-container\" hidden><div class=\"sk-item\"><div class=\"sk-estimator sk-toggleable\"><input class=\"sk-toggleable__control sk-hidden--visually\" id=\"sk-estimator-id-1\" type=\"checkbox\" checked><label for=\"sk-estimator-id-1\" class=\"sk-toggleable__label sk-toggleable__label-arrow\">SVC</label><div class=\"sk-toggleable__content\"><pre>SVC(probability=True)</pre></div></div></div></div></div>"
            ]
          },
          "metadata": {},
          "execution_count": 17
        }
      ],
      "source": [
        "from sklearn.svm import SVC\n",
        "sclf = SVC(probability=True)\n",
        "sclf.fit(X_train,Y_train)"
      ]
    },
    {
      "cell_type": "code",
      "execution_count": null,
      "metadata": {
        "colab": {
          "base_uri": "https://localhost:8080/"
        },
        "id": "mNYb8xjk658-",
        "outputId": "2b388492-154b-4a4e-fda4-95940d53153b"
      },
      "outputs": [
        {
          "output_type": "stream",
          "name": "stdout",
          "text": [
            "Accuracy score of training data using SVM : 0.7828571428571428\n"
          ]
        }
      ],
      "source": [
        "X1_train_prediction = sclf.predict(X_train)\n",
        "training1_data_accuracy = accuracy_score(X1_train_prediction,Y_train)\n",
        "print('Accuracy score of training data using SVM :',training1_data_accuracy)"
      ]
    },
    {
      "cell_type": "code",
      "execution_count": null,
      "metadata": {
        "colab": {
          "base_uri": "https://localhost:8080/"
        },
        "id": "Wv-y4um47ID-",
        "outputId": "42c8e5e7-e815-4892-c60d-ab98a035d032"
      },
      "outputs": [
        {
          "output_type": "stream",
          "name": "stdout",
          "text": [
            "Accuracy score of testing data using SVM : 0.79\n"
          ]
        }
      ],
      "source": [
        "X1_test_prediction = sclf.predict(X_test)\n",
        "testing1_data_accuracy = accuracy_score(X1_test_prediction,Y_test)\n",
        "print('Accuracy score of testing data using SVM :',testing1_data_accuracy)"
      ]
    },
    {
      "cell_type": "code",
      "execution_count": null,
      "metadata": {
        "colab": {
          "base_uri": "https://localhost:8080/"
        },
        "id": "HyNDjRax7QDr",
        "outputId": "da430c7f-9000-4cc7-fd09-0a93c16c64fe"
      },
      "outputs": [
        {
          "output_type": "stream",
          "name": "stdout",
          "text": [
            "Precision value for training data:  1.0\n",
            "Precision value for testing data:  1.0\n"
          ]
        }
      ],
      "source": [
        "precision_train= precision_score(Y_train,X1_train_prediction)\n",
        "print('Precision value for training data: ',precision_train)\n",
        "precision_test=precision_score(Y_test,X1_test_prediction)\n",
        "print('Precision value for testing data: ',precision_test)"
      ]
    },
    {
      "cell_type": "code",
      "execution_count": null,
      "metadata": {
        "colab": {
          "base_uri": "https://localhost:8080/"
        },
        "id": "YE3FsTPvi8XG",
        "outputId": "bddde203-7562-410c-c74c-632a231ac21f"
      },
      "outputs": [
        {
          "output_type": "stream",
          "name": "stdout",
          "text": [
            "Recall value for training data:  0.5777777777777777\n",
            "Recall value for testing data:  0.55\n"
          ]
        }
      ],
      "source": [
        "recall1_train=recall_score(Y_train,X1_train_prediction)\n",
        "print('Recall value for training data: ',recall1_train)\n",
        "\n",
        "recall1_test=recall_score(Y_test,X1_test_prediction)\n",
        "print('Recall value for testing data: ',recall1_test)"
      ]
    },
    {
      "cell_type": "code",
      "execution_count": null,
      "metadata": {
        "colab": {
          "base_uri": "https://localhost:8080/"
        },
        "id": "VoqQ-y5ejZzH",
        "outputId": "d30b58e9-4490-42b8-c6ed-ac7847857420"
      },
      "outputs": [
        {
          "output_type": "stream",
          "name": "stdout",
          "text": [
            "f1 value for training data:  0.732394366197183\n",
            "f1 value for testing data:  0.7096774193548387\n"
          ]
        }
      ],
      "source": [
        "f1_1_train=f1_score(X1_train_prediction,Y_train)\n",
        "print('f1 value for training data: ',f1_1_train)\n",
        "\n",
        "f1_1_test=f1_score(X1_test_prediction,Y_test)\n",
        "print('f1 value for testing data: ',f1_1_test)"
      ]
    },
    {
      "cell_type": "code",
      "execution_count": null,
      "metadata": {
        "colab": {
          "base_uri": "https://localhost:8080/"
        },
        "id": "SpphE6La3ls_",
        "outputId": "ac20172b-9785-43b4-edf9-42c304848c28"
      },
      "outputs": [
        {
          "output_type": "stream",
          "name": "stdout",
          "text": [
            "[[160   0]\n",
            " [ 63  77]]\n"
          ]
        }
      ],
      "source": [
        "cf_matrix1=confusion_matrix(Y_test,X1_test_prediction)\n",
        "print(cf_matrix1)"
      ]
    },
    {
      "cell_type": "code",
      "execution_count": null,
      "metadata": {
        "colab": {
          "base_uri": "https://localhost:8080/"
        },
        "id": "wtdmafwB3wtY",
        "outputId": "75a8dd2d-de7e-46cb-9140-be495f76460d"
      },
      "outputs": [
        {
          "output_type": "stream",
          "name": "stdout",
          "text": [
            "160 0 63 77\n"
          ]
        }
      ],
      "source": [
        "tn, fp, fn, tp = cf_matrix1.ravel()\n",
        "\n",
        "print(tn, fp, fn, tp)"
      ]
    },
    {
      "cell_type": "code",
      "execution_count": null,
      "metadata": {
        "id": "jOE4EVMaKv2s"
      },
      "outputs": [],
      "source": [
        "def specificity(tn, fp, fn, tp):\n",
        "  return tn / (tn + fp)"
      ]
    },
    {
      "cell_type": "code",
      "execution_count": null,
      "metadata": {
        "colab": {
          "base_uri": "https://localhost:8080/"
        },
        "id": "6lWYbOjGLpnu",
        "outputId": "a4c009f0-1cf3-428e-91da-93d8e2f7064f"
      },
      "outputs": [
        {
          "output_type": "stream",
          "name": "stdout",
          "text": [
            "Specificity for svm :  1.0\n"
          ]
        }
      ],
      "source": [
        "spec = specificity(tn, fp, fn, tp)\n",
        "print(\"Specificity for svm : \", spec)"
      ]
    },
    {
      "cell_type": "code",
      "execution_count": null,
      "metadata": {
        "colab": {
          "base_uri": "https://localhost:8080/",
          "height": 472
        },
        "id": "7Ph3WxgO35ZH",
        "outputId": "0b515c34-09ef-4b57-db92-6c7951eb72fa"
      },
      "outputs": [
        {
          "output_type": "execute_result",
          "data": {
            "text/plain": [
              "<function matplotlib.pyplot.show(close=None, block=None)>"
            ]
          },
          "metadata": {},
          "execution_count": 27
        },
        {
          "output_type": "display_data",
          "data": {
            "text/plain": [
              "<Figure size 640x480 with 2 Axes>"
            ],
            "image/png": "[encoded data removed]"
          },
          "metadata": {}
        }
      ],
      "source": [
        "sns.heatmap(cf_matrix1,annot=True,fmt='d',cmap='Blues')\n",
        "plt.xlabel('Actual label')\n",
        "plt.ylabel('Predicted label')\n",
        "plt.show"
      ]
    },
    {
      "cell_type": "code",
      "execution_count": null,
      "metadata": {
        "colab": {
          "base_uri": "https://localhost:8080/"
        },
        "id": "jXG_VvUKSA3E",
        "outputId": "28c5719a-3b27-4dd3-8d51-0f0b02482e28"
      },
      "outputs": [
        {
          "output_type": "stream",
          "name": "stdout",
          "text": [
            "Classification Report : \n",
            "               precision    recall  f1-score   support\n",
            "\n",
            "           0       0.72      1.00      0.84       160\n",
            "           1       1.00      0.55      0.71       140\n",
            "\n",
            "    accuracy                           0.79       300\n",
            "   macro avg       0.86      0.78      0.77       300\n",
            "weighted avg       0.85      0.79      0.78       300\n",
            "\n"
          ]
        }
      ],
      "source": [
        "cl_report1=classification_report(Y_test,X1_test_prediction)\n",
        "print('Classification Report : \\n',cl_report1)"
      ]
    },
    {
      "cell_type": "markdown",
      "metadata": {
        "id": "99XvrofptXHX"
      },
      "source": [
        "### Random Forest"
      ]
    },
    {
      "cell_type": "code",
      "execution_count": null,
      "metadata": {
        "colab": {
          "base_uri": "https://localhost:8080/",
          "height": 75
        },
        "id": "RP9JIu3U7l1I",
        "outputId": "e90cc954-cc80-40e9-9809-97d7f3b69296"
      },
      "outputs": [
        {
          "output_type": "execute_result",
          "data": {
            "text/plain": [
              "RandomForestClassifier()"
            ],
            "text/html": [
              "<style>#sk-container-id-2 {color: black;background-color: white;}#sk-container-id-2 pre{padding: 0;}#sk-container-id-2 div.sk-toggleable {background-color: white;}#sk-container-id-2 label.sk-toggleable__label {cursor: pointer;display: block;width: 100%;margin-bottom: 0;padding: 0.3em;box-sizing: border-box;text-align: center;}#sk-container-id-2 label.sk-toggleable__label-arrow:before {content: \"▸\";float: left;margin-right: 0.25em;color: #696969;}#sk-container-id-2 label.sk-toggleable__label-arrow:hover:before {color: black;}#sk-container-id-2 div.sk-estimator:hover label.sk-toggleable__label-arrow:before {color: black;}#sk-container-id-2 div.sk-toggleable__content {max-height: 0;max-width: 0;overflow: hidden;text-align: left;background-color: #f0f8ff;}#sk-container-id-2 div.sk-toggleable__content pre {margin: 0.2em;color: black;border-radius: 0.25em;background-color: #f0f8ff;}#sk-container-id-2 input.sk-toggleable__control:checked~div.sk-toggleable__content {max-height: 200px;max-width: 100%;overflow: auto;}#sk-container-id-2 input.sk-toggleable__control:checked~label.sk-toggleable__label-arrow:before {content: \"▾\";}#sk-container-id-2 div.sk-estimator input.sk-toggleable__control:checked~label.sk-toggleable__label {background-color: #d4ebff;}#sk-container-id-2 div.sk-label input.sk-toggleable__control:checked~label.sk-toggleable__label {background-color: #d4ebff;}#sk-container-id-2 input.sk-hidden--visually {border: 0;clip: rect(1px 1px 1px 1px);clip: rect(1px, 1px, 1px, 1px);height: 1px;margin: -1px;overflow: hidden;padding: 0;position: absolute;width: 1px;}#sk-container-id-2 div.sk-estimator {font-family: monospace;background-color: #f0f8ff;border: 1px dotted black;border-radius: 0.25em;box-sizing: border-box;margin-bottom: 0.5em;}#sk-container-id-2 div.sk-estimator:hover {background-color: #d4ebff;}#sk-container-id-2 div.sk-parallel-item::after {content: \"\";width: 100%;border-bottom: 1px solid gray;flex-grow: 1;}#sk-container-id-2 div.sk-label:hover label.sk-toggleable__label {background-color: #d4ebff;}#sk-container-id-2 div.sk-serial::before {content: \"\";position: absolute;border-left: 1px solid gray;box-sizing: border-box;top: 0;bottom: 0;left: 50%;z-index: 0;}#sk-container-id-2 div.sk-serial {display: flex;flex-direction: column;align-items: center;background-color: white;padding-right: 0.2em;padding-left: 0.2em;position: relative;}#sk-container-id-2 div.sk-item {position: relative;z-index: 1;}#sk-container-id-2 div.sk-parallel {display: flex;align-items: stretch;justify-content: center;background-color: white;position: relative;}#sk-container-id-2 div.sk-item::before, #sk-container-id-2 div.sk-parallel-item::before {content: \"\";position: absolute;border-left: 1px solid gray;box-sizing: border-box;top: 0;bottom: 0;left: 50%;z-index: -1;}#sk-container-id-2 div.sk-parallel-item {display: flex;flex-direction: column;z-index: 1;position: relative;background-color: white;}#sk-container-id-2 div.sk-parallel-item:first-child::after {align-self: flex-end;width: 50%;}#sk-container-id-2 div.sk-parallel-item:last-child::after {align-self: flex-start;width: 50%;}#sk-container-id-2 div.sk-parallel-item:only-child::after {width: 0;}#sk-container-id-2 div.sk-dashed-wrapped {border: 1px dashed gray;margin: 0 0.4em 0.5em 0.4em;box-sizing: border-box;padding-bottom: 0.4em;background-color: white;}#sk-container-id-2 div.sk-label label {font-family: monospace;font-weight: bold;display: inline-block;line-height: 1.2em;}#sk-container-id-2 div.sk-label-container {text-align: center;}#sk-container-id-2 div.sk-container {/* jupyter's `normalize.less` sets `[hidden] { display: none; }` but bootstrap.min.css set `[hidden] { display: none !important; }` so we also need the `!important` here to be able to override the default hidden behavior on the sphinx rendered scikit-learn.org. See: https://github.com/scikit-learn/scikit-learn/issues/21755 */display: inline-block !important;position: relative;}#sk-container-id-2 div.sk-text-repr-fallback {display: none;}</style><div id=\"sk-container-id-2\" class=\"sk-top-container\"><div class=\"sk-text-repr-fallback\"><pre>RandomForestClassifier()</pre><b>In a Jupyter environment, please rerun this cell to show the HTML representation or trust the notebook. <br />On GitHub, the HTML representation is unable to render, please try loading this page with nbviewer.org.</b></div><div class=\"sk-container\" hidden><div class=\"sk-item\"><div class=\"sk-estimator sk-toggleable\"><input class=\"sk-toggleable__control sk-hidden--visually\" id=\"sk-estimator-id-2\" type=\"checkbox\" checked><label for=\"sk-estimator-id-2\" class=\"sk-toggleable__label sk-toggleable__label-arrow\">RandomForestClassifier</label><div class=\"sk-toggleable__content\"><pre>RandomForestClassifier()</pre></div></div></div></div></div>"
            ]
          },
          "metadata": {},
          "execution_count": 29
        }
      ],
      "source": [
        "from sklearn.ensemble import RandomForestClassifier\n",
        "rfclr = RandomForestClassifier()\n",
        "rfclr.fit(X_train,Y_train)"
      ]
    },
    {
      "cell_type": "code",
      "execution_count": null,
      "metadata": {
        "colab": {
          "base_uri": "https://localhost:8080/"
        },
        "id": "TXpVuJ2L8p6x",
        "outputId": "c0de13d0-7eec-4a85-a930-c18a6472f921"
      },
      "outputs": [
        {
          "output_type": "stream",
          "name": "stdout",
          "text": [
            "Accuracy score of training data using random forest: 1.0\n"
          ]
        }
      ],
      "source": [
        "X_train_prediction = rfclr.predict(X_train)\n",
        "training_data_accuracy = accuracy_score(Y_train,X_train_prediction)\n",
        "print('Accuracy score of training data using random forest:',training_data_accuracy)"
      ]
    },
    {
      "cell_type": "code",
      "execution_count": null,
      "metadata": {
        "colab": {
          "base_uri": "https://localhost:8080/"
        },
        "id": "4VasCuSj8xr0",
        "outputId": "3527a2d9-89aa-4112-fac3-f941048f3c59"
      },
      "outputs": [
        {
          "output_type": "stream",
          "name": "stdout",
          "text": [
            "Accuracy score of testing data using random forest : 0.9966666666666667\n"
          ]
        }
      ],
      "source": [
        "X_test_prediction = rfclr.predict(X_test)\n",
        "testing_data_accuracy = accuracy_score(X_test_prediction,Y_test)\n",
        "print('Accuracy score of testing data using random forest :',testing_data_accuracy)"
      ]
    },
    {
      "cell_type": "code",
      "execution_count": null,
      "metadata": {
        "colab": {
          "base_uri": "https://localhost:8080/"
        },
        "id": "yPAi6z-ddmIg",
        "outputId": "72b0f48c-c5a9-4bf1-d510-fc1f37f305f7"
      },
      "outputs": [
        {
          "output_type": "stream",
          "name": "stdout",
          "text": [
            "Precision value for training data:  1.0\n",
            "Precision value for testing data:  0.9929078014184397\n"
          ]
        }
      ],
      "source": [
        "precision1_train= precision_score(Y_train,X_train_prediction)\n",
        "print('Precision value for training data: ',precision1_train)\n",
        "precision1_test=precision_score(Y_test,X_test_prediction)\n",
        "print('Precision value for testing data: ',precision1_test)"
      ]
    },
    {
      "cell_type": "code",
      "execution_count": null,
      "metadata": {
        "colab": {
          "base_uri": "https://localhost:8080/"
        },
        "id": "lW6YyiZ1kXzu",
        "outputId": "ba4e0a20-8548-4881-9a98-b9856e1e9fc9"
      },
      "outputs": [
        {
          "output_type": "stream",
          "name": "stdout",
          "text": [
            "Recall value for training data:  1.0\n",
            "Recall value for testing data:  1.0\n"
          ]
        }
      ],
      "source": [
        "recall2_train=recall_score(Y_train,X_train_prediction)\n",
        "print('Recall value for training data: ',recall2_train)\n",
        "recall2_test=recall_score(Y_test,X_test_prediction)\n",
        "print('Recall value for testing data: ',recall2_test)"
      ]
    },
    {
      "cell_type": "code",
      "execution_count": null,
      "metadata": {
        "colab": {
          "base_uri": "https://localhost:8080/"
        },
        "id": "xXfMMSRdxY_W",
        "outputId": "428ac424-3636-4194-e53c-8dddc77fc447"
      },
      "outputs": [
        {
          "output_type": "stream",
          "name": "stdout",
          "text": [
            "f1 value for testing data:  1.0\n",
            "f1 value for testing data:  0.9964412811387899\n"
          ]
        }
      ],
      "source": [
        "f1_2_train=f1_score(X_train_prediction,Y_train)\n",
        "print('f1 value for testing data: ',f1_2_train)\n",
        "f1_2_test=f1_score(X_test_prediction,Y_test)\n",
        "print('f1 value for testing data: ',f1_2_test)"
      ]
    },
    {
      "cell_type": "code",
      "execution_count": null,
      "metadata": {
        "colab": {
          "base_uri": "https://localhost:8080/"
        },
        "id": "fQEu9W9p9oQ1",
        "outputId": "63eb6d98-7eba-4fe6-9fd2-c96ce1f6e23f"
      },
      "outputs": [
        {
          "output_type": "stream",
          "name": "stdout",
          "text": [
            "Classification Report : \n",
            "               precision    recall  f1-score   support\n",
            "\n",
            "           0       1.00      0.99      1.00       160\n",
            "           1       0.99      1.00      1.00       140\n",
            "\n",
            "    accuracy                           1.00       300\n",
            "   macro avg       1.00      1.00      1.00       300\n",
            "weighted avg       1.00      1.00      1.00       300\n",
            "\n"
          ]
        }
      ],
      "source": [
        "cl_report1=classification_report(Y_test,X_test_prediction)\n",
        "print('Classification Report : \\n',cl_report1)"
      ]
    },
    {
      "cell_type": "code",
      "execution_count": null,
      "metadata": {
        "colab": {
          "base_uri": "https://localhost:8080/"
        },
        "id": "jWJcfyoFAiuR",
        "outputId": "4f109de1-4b72-4b14-d300-a72a3ceb9a60"
      },
      "outputs": [
        {
          "output_type": "stream",
          "name": "stdout",
          "text": [
            "[[159   1]\n",
            " [  0 140]]\n"
          ]
        }
      ],
      "source": [
        "cf_matrix2=confusion_matrix(Y_test,X_test_prediction)\n",
        "print(cf_matrix2)"
      ]
    },
    {
      "cell_type": "code",
      "execution_count": null,
      "metadata": {
        "colab": {
          "base_uri": "https://localhost:8080/"
        },
        "id": "oOYad-SsAvIE",
        "outputId": "194c75d4-51f1-4136-a917-69c45b0a9ba3"
      },
      "outputs": [
        {
          "output_type": "stream",
          "name": "stdout",
          "text": [
            "159 1 0 140\n"
          ]
        }
      ],
      "source": [
        "tn, fp, fn, tp = cf_matrix2.ravel()\n",
        "\n",
        "print(tn, fp, fn, tp)"
      ]
    },
    {
      "cell_type": "code",
      "execution_count": null,
      "metadata": {
        "id": "qY5lMzi9NMlG"
      },
      "outputs": [],
      "source": [
        "def specificity(tn, fp, fn, tp):\n",
        "  return tn / (tn + fp)"
      ]
    },
    {
      "cell_type": "code",
      "execution_count": null,
      "metadata": {
        "colab": {
          "base_uri": "https://localhost:8080/"
        },
        "id": "wKQ7cKnjNawd",
        "outputId": "abe7c889-be83-4caf-e754-a6adfe9b0e82"
      },
      "outputs": [
        {
          "output_type": "stream",
          "name": "stdout",
          "text": [
            "Specificity for RF :  0.99375\n"
          ]
        }
      ],
      "source": [
        "spec1 = specificity(tn, fp, fn, tp)\n",
        "print(\"Specificity for RF : \", spec1)"
      ]
    },
    {
      "cell_type": "code",
      "execution_count": null,
      "metadata": {
        "colab": {
          "base_uri": "https://localhost:8080/",
          "height": 466
        },
        "id": "2Y_iPtEAA7MQ",
        "outputId": "31977582-b647-4d00-fe55-bd31885fcdc0"
      },
      "outputs": [
        {
          "output_type": "execute_result",
          "data": {
            "text/plain": [
              "<function matplotlib.pyplot.show(close=None, block=None)>"
            ]
          },
          "metadata": {},
          "execution_count": 40
        },
        {
          "output_type": "display_data",
          "data": {
            "text/plain": [
              "<Figure size 640x480 with 2 Axes>"
            ],
            "image/png": "[encoded data removed]"
          },
          "metadata": {}
        }
      ],
      "source": [
        "sns.heatmap(cf_matrix2,annot=True,fmt='d',cmap='Blues')\n",
        "plt.xlabel('Actual label')\n",
        "plt.ylabel('Predicted label')\n",
        "plt.show"
      ]
    },
    {
      "cell_type": "markdown",
      "metadata": {
        "id": "AV0n18tYteWH"
      },
      "source": [
        "KNN"
      ]
    },
    {
      "cell_type": "code",
      "execution_count": null,
      "metadata": {
        "colab": {
          "base_uri": "https://localhost:8080/",
          "height": 75
        },
        "id": "5nhutGu89zPp",
        "outputId": "45cc57c6-4c7e-4e39-b6e1-43a4d68d7b28"
      },
      "outputs": [
        {
          "output_type": "execute_result",
          "data": {
            "text/plain": [
              "KNeighborsClassifier()"
            ],
            "text/html": [
              "<style>#sk-container-id-3 {color: black;background-color: white;}#sk-container-id-3 pre{padding: 0;}#sk-container-id-3 div.sk-toggleable {background-color: white;}#sk-container-id-3 label.sk-toggleable__label {cursor: pointer;display: block;width: 100%;margin-bottom: 0;padding: 0.3em;box-sizing: border-box;text-align: center;}#sk-container-id-3 label.sk-toggleable__label-arrow:before {content: \"▸\";float: left;margin-right: 0.25em;color: #696969;}#sk-container-id-3 label.sk-toggleable__label-arrow:hover:before {color: black;}#sk-container-id-3 div.sk-estimator:hover label.sk-toggleable__label-arrow:before {color: black;}#sk-container-id-3 div.sk-toggleable__content {max-height: 0;max-width: 0;overflow: hidden;text-align: left;background-color: #f0f8ff;}#sk-container-id-3 div.sk-toggleable__content pre {margin: 0.2em;color: black;border-radius: 0.25em;background-color: #f0f8ff;}#sk-container-id-3 input.sk-toggleable__control:checked~div.sk-toggleable__content {max-height: 200px;max-width: 100%;overflow: auto;}#sk-container-id-3 input.sk-toggleable__control:checked~label.sk-toggleable__label-arrow:before {content: \"▾\";}#sk-container-id-3 div.sk-estimator input.sk-toggleable__control:checked~label.sk-toggleable__label {background-color: #d4ebff;}#sk-container-id-3 div.sk-label input.sk-toggleable__control:checked~label.sk-toggleable__label {background-color: #d4ebff;}#sk-container-id-3 input.sk-hidden--visually {border: 0;clip: rect(1px 1px 1px 1px);clip: rect(1px, 1px, 1px, 1px);height: 1px;margin: -1px;overflow: hidden;padding: 0;position: absolute;width: 1px;}#sk-container-id-3 div.sk-estimator {font-family: monospace;background-color: #f0f8ff;border: 1px dotted black;border-radius: 0.25em;box-sizing: border-box;margin-bottom: 0.5em;}#sk-container-id-3 div.sk-estimator:hover {background-color: #d4ebff;}#sk-container-id-3 div.sk-parallel-item::after {content: \"\";width: 100%;border-bottom: 1px solid gray;flex-grow: 1;}#sk-container-id-3 div.sk-label:hover label.sk-toggleable__label {background-color: #d4ebff;}#sk-container-id-3 div.sk-serial::before {content: \"\";position: absolute;border-left: 1px solid gray;box-sizing: border-box;top: 0;bottom: 0;left: 50%;z-index: 0;}#sk-container-id-3 div.sk-serial {display: flex;flex-direction: column;align-items: center;background-color: white;padding-right: 0.2em;padding-left: 0.2em;position: relative;}#sk-container-id-3 div.sk-item {position: relative;z-index: 1;}#sk-container-id-3 div.sk-parallel {display: flex;align-items: stretch;justify-content: center;background-color: white;position: relative;}#sk-container-id-3 div.sk-item::before, #sk-container-id-3 div.sk-parallel-item::before {content: \"\";position: absolute;border-left: 1px solid gray;box-sizing: border-box;top: 0;bottom: 0;left: 50%;z-index: -1;}#sk-container-id-3 div.sk-parallel-item {display: flex;flex-direction: column;z-index: 1;position: relative;background-color: white;}#sk-container-id-3 div.sk-parallel-item:first-child::after {align-self: flex-end;width: 50%;}#sk-container-id-3 div.sk-parallel-item:last-child::after {align-self: flex-start;width: 50%;}#sk-container-id-3 div.sk-parallel-item:only-child::after {width: 0;}#sk-container-id-3 div.sk-dashed-wrapped {border: 1px dashed gray;margin: 0 0.4em 0.5em 0.4em;box-sizing: border-box;padding-bottom: 0.4em;background-color: white;}#sk-container-id-3 div.sk-label label {font-family: monospace;font-weight: bold;display: inline-block;line-height: 1.2em;}#sk-container-id-3 div.sk-label-container {text-align: center;}#sk-container-id-3 div.sk-container {/* jupyter's `normalize.less` sets `[hidden] { display: none; }` but bootstrap.min.css set `[hidden] { display: none !important; }` so we also need the `!important` here to be able to override the default hidden behavior on the sphinx rendered scikit-learn.org. See: https://github.com/scikit-learn/scikit-learn/issues/21755 */display: inline-block !important;position: relative;}#sk-container-id-3 div.sk-text-repr-fallback {display: none;}</style><div id=\"sk-container-id-3\" class=\"sk-top-container\"><div class=\"sk-text-repr-fallback\"><pre>KNeighborsClassifier()</pre><b>In a Jupyter environment, please rerun this cell to show the HTML representation or trust the notebook. <br />On GitHub, the HTML representation is unable to render, please try loading this page with nbviewer.org.</b></div><div class=\"sk-container\" hidden><div class=\"sk-item\"><div class=\"sk-estimator sk-toggleable\"><input class=\"sk-toggleable__control sk-hidden--visually\" id=\"sk-estimator-id-3\" type=\"checkbox\" checked><label for=\"sk-estimator-id-3\" class=\"sk-toggleable__label sk-toggleable__label-arrow\">KNeighborsClassifier</label><div class=\"sk-toggleable__content\"><pre>KNeighborsClassifier()</pre></div></div></div></div></div>"
            ]
          },
          "metadata": {},
          "execution_count": 41
        }
      ],
      "source": [
        "from sklearn.neighbors import KNeighborsClassifier\n",
        "kclf= KNeighborsClassifier(n_neighbors= 5)\n",
        "kclf.fit(X_train,Y_train)"
      ]
    },
    {
      "cell_type": "code",
      "execution_count": null,
      "metadata": {
        "colab": {
          "base_uri": "https://localhost:8080/"
        },
        "id": "tOMrzEpJtqnw",
        "outputId": "bdb2b9f3-ebd9-45d0-b06c-edeabf412b88"
      },
      "outputs": [
        {
          "output_type": "stream",
          "name": "stdout",
          "text": [
            "Accuracy score of training data using Multinomial Naive Bayes : 0.9814285714285714\n"
          ]
        }
      ],
      "source": [
        "X2_train_prediction = kclf.predict(X_train)\n",
        "training2_data_accuracy = accuracy_score(X2_train_prediction,Y_train)\n",
        "print('Accuracy score of training data using Multinomial Naive Bayes :',training2_data_accuracy)"
      ]
    },
    {
      "cell_type": "code",
      "execution_count": null,
      "metadata": {
        "colab": {
          "base_uri": "https://localhost:8080/"
        },
        "id": "rsfy7ttHt3In",
        "outputId": "cbab1c00-3896-439a-9eea-669e63030fb1"
      },
      "outputs": [
        {
          "output_type": "stream",
          "name": "stdout",
          "text": [
            "Accuracy score of testing data using KNN : 0.9733333333333334\n"
          ]
        }
      ],
      "source": [
        "X2_test_prediction = kclf.predict(X_test)\n",
        "testing2_data_accuracy = accuracy_score(X2_test_prediction,Y_test)\n",
        "print('Accuracy score of testing data using KNN :',testing2_data_accuracy)"
      ]
    },
    {
      "cell_type": "code",
      "execution_count": null,
      "metadata": {
        "colab": {
          "base_uri": "https://localhost:8080/"
        },
        "id": "K8VFBrfcd2pv",
        "outputId": "8e0a0dc4-8bbe-43a8-d69b-682d546e9679"
      },
      "outputs": [
        {
          "output_type": "stream",
          "name": "stdout",
          "text": [
            "Precision value for training data:  0.9753424657534246\n",
            "Precision value for testing data:  0.9647887323943662\n"
          ]
        }
      ],
      "source": [
        "precision2_train= precision_score(Y_train,X2_train_prediction)\n",
        "print('Precision value for training data: ',precision2_train)\n",
        "precision2_test=precision_score(Y_test,X2_test_prediction)\n",
        "print('Precision value for testing data: ',precision2_test)"
      ]
    },
    {
      "cell_type": "code",
      "execution_count": null,
      "metadata": {
        "colab": {
          "base_uri": "https://localhost:8080/"
        },
        "id": "72e3tvTDkvpZ",
        "outputId": "2867fc0f-37a0-4371-c7b3-4e85c6787612"
      },
      "outputs": [
        {
          "output_type": "stream",
          "name": "stdout",
          "text": [
            "Recall value for training data:  0.9888888888888889\n",
            "Recall value for testing data:  0.9785714285714285\n"
          ]
        }
      ],
      "source": [
        "recall3_train=recall_score(Y_train,X2_train_prediction)\n",
        "print('Recall value for training data: ',recall3_train)\n",
        "\n",
        "recall3_test=recall_score(Y_test,X2_test_prediction)\n",
        "print('Recall value for testing data: ',recall3_test)"
      ]
    },
    {
      "cell_type": "code",
      "execution_count": null,
      "metadata": {
        "colab": {
          "base_uri": "https://localhost:8080/"
        },
        "id": "iC1vgVd8xrSJ",
        "outputId": "db71e2c7-aeb3-40f9-dbc8-d5ae9afe794b"
      },
      "outputs": [
        {
          "output_type": "stream",
          "name": "stdout",
          "text": [
            "f1 value for training data:  0.9820689655172414\n",
            "f1 value for testing data:  0.9716312056737589\n"
          ]
        }
      ],
      "source": [
        "f1_3_train=f1_score(X2_train_prediction,Y_train)\n",
        "print('f1 value for training data: ',f1_3_train)\n",
        "f1_3_test=f1_score(X2_test_prediction,Y_test)\n",
        "print('f1 value for testing data: ',f1_3_test)"
      ]
    },
    {
      "cell_type": "code",
      "execution_count": null,
      "metadata": {
        "colab": {
          "base_uri": "https://localhost:8080/"
        },
        "id": "k5pHve4JuEDd",
        "outputId": "9257dbd5-1a11-4511-c458-0530ace57f47"
      },
      "outputs": [
        {
          "output_type": "stream",
          "name": "stdout",
          "text": [
            "Classification Report : \n",
            "               precision    recall  f1-score   support\n",
            "\n",
            "           0       0.98      0.97      0.97       160\n",
            "           1       0.96      0.98      0.97       140\n",
            "\n",
            "    accuracy                           0.97       300\n",
            "   macro avg       0.97      0.97      0.97       300\n",
            "weighted avg       0.97      0.97      0.97       300\n",
            "\n"
          ]
        }
      ],
      "source": [
        "cl_report2=classification_report(Y_test,X2_test_prediction)\n",
        "print('Classification Report : \\n',cl_report2)"
      ]
    },
    {
      "cell_type": "code",
      "execution_count": null,
      "metadata": {
        "colab": {
          "base_uri": "https://localhost:8080/"
        },
        "id": "3P-4ORgPBH4Q",
        "outputId": "71e86ffb-41f0-4247-a86c-e46d506f8921"
      },
      "outputs": [
        {
          "output_type": "stream",
          "name": "stdout",
          "text": [
            "[[155   5]\n",
            " [  3 137]]\n"
          ]
        }
      ],
      "source": [
        "cf_matrix3=confusion_matrix(Y_test,X2_test_prediction)\n",
        "print(cf_matrix3)"
      ]
    },
    {
      "cell_type": "code",
      "execution_count": null,
      "metadata": {
        "colab": {
          "base_uri": "https://localhost:8080/"
        },
        "id": "xUzUInzCBc2C",
        "outputId": "6c5d5773-017e-4d9e-a410-06a3248ece24"
      },
      "outputs": [
        {
          "output_type": "stream",
          "name": "stdout",
          "text": [
            "155 5 3 137\n"
          ]
        }
      ],
      "source": [
        "tn, fp, fn, tp = cf_matrix3.ravel()\n",
        "\n",
        "print(tn, fp, fn, tp)"
      ]
    },
    {
      "cell_type": "code",
      "execution_count": null,
      "metadata": {
        "colab": {
          "base_uri": "https://localhost:8080/",
          "height": 466
        },
        "id": "nRZ_ClcOBzNR",
        "outputId": "29fd658d-7649-4780-9f55-d403bb5b23e7"
      },
      "outputs": [
        {
          "output_type": "execute_result",
          "data": {
            "text/plain": [
              "<function matplotlib.pyplot.show(close=None, block=None)>"
            ]
          },
          "metadata": {},
          "execution_count": 50
        },
        {
          "output_type": "display_data",
          "data": {
            "text/plain": [
              "<Figure size 640x480 with 2 Axes>"
            ],
            "image/png": "[encoded data removed]"
          },
          "metadata": {}
        }
      ],
      "source": [
        "sns.heatmap(cf_matrix3,annot=True,fmt='d',cmap='Blues')\n",
        "plt.xlabel('Actual label')\n",
        "plt.ylabel('Predicted label')\n",
        "plt.show"
      ]
    },
    {
      "cell_type": "markdown",
      "metadata": {
        "id": "66adLDgfuTi2"
      },
      "source": [
        "Naive Bayes"
      ]
    },
    {
      "cell_type": "code",
      "execution_count": null,
      "metadata": {
        "colab": {
          "base_uri": "https://localhost:8080/",
          "height": 75
        },
        "id": "1IixRXZiuPEa",
        "outputId": "0b3d8966-c334-4072-b264-c3be58f6dd13"
      },
      "outputs": [
        {
          "output_type": "execute_result",
          "data": {
            "text/plain": [
              "MultinomialNB()"
            ],
            "text/html": [
              "<style>#sk-container-id-4 {color: black;background-color: white;}#sk-container-id-4 pre{padding: 0;}#sk-container-id-4 div.sk-toggleable {background-color: white;}#sk-container-id-4 label.sk-toggleable__label {cursor: pointer;display: block;width: 100%;margin-bottom: 0;padding: 0.3em;box-sizing: border-box;text-align: center;}#sk-container-id-4 label.sk-toggleable__label-arrow:before {content: \"▸\";float: left;margin-right: 0.25em;color: #696969;}#sk-container-id-4 label.sk-toggleable__label-arrow:hover:before {color: black;}#sk-container-id-4 div.sk-estimator:hover label.sk-toggleable__label-arrow:before {color: black;}#sk-container-id-4 div.sk-toggleable__content {max-height: 0;max-width: 0;overflow: hidden;text-align: left;background-color: #f0f8ff;}#sk-container-id-4 div.sk-toggleable__content pre {margin: 0.2em;color: black;border-radius: 0.25em;background-color: #f0f8ff;}#sk-container-id-4 input.sk-toggleable__control:checked~div.sk-toggleable__content {max-height: 200px;max-width: 100%;overflow: auto;}#sk-container-id-4 input.sk-toggleable__control:checked~label.sk-toggleable__label-arrow:before {content: \"▾\";}#sk-container-id-4 div.sk-estimator input.sk-toggleable__control:checked~label.sk-toggleable__label {background-color: #d4ebff;}#sk-container-id-4 div.sk-label input.sk-toggleable__control:checked~label.sk-toggleable__label {background-color: #d4ebff;}#sk-container-id-4 input.sk-hidden--visually {border: 0;clip: rect(1px 1px 1px 1px);clip: rect(1px, 1px, 1px, 1px);height: 1px;margin: -1px;overflow: hidden;padding: 0;position: absolute;width: 1px;}#sk-container-id-4 div.sk-estimator {font-family: monospace;background-color: #f0f8ff;border: 1px dotted black;border-radius: 0.25em;box-sizing: border-box;margin-bottom: 0.5em;}#sk-container-id-4 div.sk-estimator:hover {background-color: #d4ebff;}#sk-container-id-4 div.sk-parallel-item::after {content: \"\";width: 100%;border-bottom: 1px solid gray;flex-grow: 1;}#sk-container-id-4 div.sk-label:hover label.sk-toggleable__label {background-color: #d4ebff;}#sk-container-id-4 div.sk-serial::before {content: \"\";position: absolute;border-left: 1px solid gray;box-sizing: border-box;top: 0;bottom: 0;left: 50%;z-index: 0;}#sk-container-id-4 div.sk-serial {display: flex;flex-direction: column;align-items: center;background-color: white;padding-right: 0.2em;padding-left: 0.2em;position: relative;}#sk-container-id-4 div.sk-item {position: relative;z-index: 1;}#sk-container-id-4 div.sk-parallel {display: flex;align-items: stretch;justify-content: center;background-color: white;position: relative;}#sk-container-id-4 div.sk-item::before, #sk-container-id-4 div.sk-parallel-item::before {content: \"\";position: absolute;border-left: 1px solid gray;box-sizing: border-box;top: 0;bottom: 0;left: 50%;z-index: -1;}#sk-container-id-4 div.sk-parallel-item {display: flex;flex-direction: column;z-index: 1;position: relative;background-color: white;}#sk-container-id-4 div.sk-parallel-item:first-child::after {align-self: flex-end;width: 50%;}#sk-container-id-4 div.sk-parallel-item:last-child::after {align-self: flex-start;width: 50%;}#sk-container-id-4 div.sk-parallel-item:only-child::after {width: 0;}#sk-container-id-4 div.sk-dashed-wrapped {border: 1px dashed gray;margin: 0 0.4em 0.5em 0.4em;box-sizing: border-box;padding-bottom: 0.4em;background-color: white;}#sk-container-id-4 div.sk-label label {font-family: monospace;font-weight: bold;display: inline-block;line-height: 1.2em;}#sk-container-id-4 div.sk-label-container {text-align: center;}#sk-container-id-4 div.sk-container {/* jupyter's `normalize.less` sets `[hidden] { display: none; }` but bootstrap.min.css set `[hidden] { display: none !important; }` so we also need the `!important` here to be able to override the default hidden behavior on the sphinx rendered scikit-learn.org. See: https://github.com/scikit-learn/scikit-learn/issues/21755 */display: inline-block !important;position: relative;}#sk-container-id-4 div.sk-text-repr-fallback {display: none;}</style><div id=\"sk-container-id-4\" class=\"sk-top-container\"><div class=\"sk-text-repr-fallback\"><pre>MultinomialNB()</pre><b>In a Jupyter environment, please rerun this cell to show the HTML representation or trust the notebook. <br />On GitHub, the HTML representation is unable to render, please try loading this page with nbviewer.org.</b></div><div class=\"sk-container\" hidden><div class=\"sk-item\"><div class=\"sk-estimator sk-toggleable\"><input class=\"sk-toggleable__control sk-hidden--visually\" id=\"sk-estimator-id-4\" type=\"checkbox\" checked><label for=\"sk-estimator-id-4\" class=\"sk-toggleable__label sk-toggleable__label-arrow\">MultinomialNB</label><div class=\"sk-toggleable__content\"><pre>MultinomialNB()</pre></div></div></div></div></div>"
            ]
          },
          "metadata": {},
          "execution_count": 51
        }
      ],
      "source": [
        "from sklearn.naive_bayes import MultinomialNB\n",
        "mnnb = MultinomialNB()\n",
        "mnnb.fit(X_train,Y_train)"
      ]
    },
    {
      "cell_type": "code",
      "execution_count": null,
      "metadata": {
        "colab": {
          "base_uri": "https://localhost:8080/"
        },
        "id": "MsxdgaBYuZb3",
        "outputId": "eadb9889-61f8-4964-94da-b30de3eb78b7"
      },
      "outputs": [
        {
          "output_type": "stream",
          "name": "stdout",
          "text": [
            "Accuracy score of training data using Multinomial Naive Bayes : 0.5385714285714286\n"
          ]
        }
      ],
      "source": [
        "X3_train_prediction = mnnb.predict(X_train)\n",
        "training3_data_accuracy = accuracy_score(X3_train_prediction,Y_train)\n",
        "print('Accuracy score of training data using Multinomial Naive Bayes :',training3_data_accuracy)"
      ]
    },
    {
      "cell_type": "code",
      "execution_count": null,
      "metadata": {
        "colab": {
          "base_uri": "https://localhost:8080/"
        },
        "id": "kaUlMAaAuewy",
        "outputId": "1d7cc95f-3f6a-41de-8f21-51be3a0abbe4"
      },
      "outputs": [
        {
          "output_type": "stream",
          "name": "stdout",
          "text": [
            "Accuracy score of testing data using Multinomial Naive Bayes : 0.54\n"
          ]
        }
      ],
      "source": [
        "X3_test_prediction = mnnb.predict(X_test)\n",
        "testing3_data_accuracy = accuracy_score(X3_test_prediction,Y_test)\n",
        "print('Accuracy score of testing data using Multinomial Naive Bayes :',testing3_data_accuracy)"
      ]
    },
    {
      "cell_type": "code",
      "execution_count": null,
      "metadata": {
        "colab": {
          "base_uri": "https://localhost:8080/"
        },
        "id": "8_iRfJNPeFJK",
        "outputId": "bd856520-7321-4b2b-c587-89e62f8ff676"
      },
      "outputs": [
        {
          "output_type": "stream",
          "name": "stdout",
          "text": [
            "Precision value for training data:  0.5475578406169666\n",
            "Precision value for testing data:  0.50625\n"
          ]
        }
      ],
      "source": [
        "precision3_train= precision_score(Y_train,X3_train_prediction)\n",
        "print('Precision value for training data: ',precision3_train)\n",
        "precision3_test=precision_score(Y_test,X3_test_prediction)\n",
        "print('Precision value for testing data: ',precision3_test)"
      ]
    },
    {
      "cell_type": "code",
      "execution_count": null,
      "metadata": {
        "colab": {
          "base_uri": "https://localhost:8080/"
        },
        "id": "CaaiEfNfnUlz",
        "outputId": "bca4b36c-af66-4571-a9a6-5ea8dbd510ef"
      },
      "outputs": [
        {
          "output_type": "stream",
          "name": "stdout",
          "text": [
            "Recall value for training data:  0.5916666666666667\n",
            "Recall value for testing data:  0.5785714285714286\n"
          ]
        }
      ],
      "source": [
        "recall4_train=recall_score(Y_train,X3_train_prediction)\n",
        "print('Recall value for training data: ',recall4_train)\n",
        "recall4_test=recall_score(Y_test,X3_test_prediction)\n",
        "print('Recall value for testing data: ',recall4_test)"
      ]
    },
    {
      "cell_type": "code",
      "execution_count": null,
      "metadata": {
        "colab": {
          "base_uri": "https://localhost:8080/"
        },
        "id": "a46-LuhEx5jE",
        "outputId": "1a5fed8c-7d2e-4708-98ae-56a60439605a"
      },
      "outputs": [
        {
          "output_type": "stream",
          "name": "stdout",
          "text": [
            "f1 value for testing data:  0.568758344459279\n",
            "f1 value for testing data:  0.5399999999999999\n"
          ]
        }
      ],
      "source": [
        "f1_4_train=f1_score(X3_train_prediction,Y_train)\n",
        "print('f1 value for testing data: ',f1_4_train)\n",
        "f1_4_test=f1_score(X3_test_prediction,Y_test)\n",
        "print('f1 value for testing data: ',f1_4_test)"
      ]
    },
    {
      "cell_type": "code",
      "execution_count": null,
      "metadata": {
        "colab": {
          "base_uri": "https://localhost:8080/"
        },
        "id": "d0Ot1FL_un2A",
        "outputId": "68d0e7f8-a4f8-4452-8e94-c1edbbe02d8b"
      },
      "outputs": [
        {
          "output_type": "stream",
          "name": "stdout",
          "text": [
            "Classification Report : \n",
            "               precision    recall  f1-score   support\n",
            "\n",
            "           0       0.58      0.51      0.54       160\n",
            "           1       0.51      0.58      0.54       140\n",
            "\n",
            "    accuracy                           0.54       300\n",
            "   macro avg       0.54      0.54      0.54       300\n",
            "weighted avg       0.54      0.54      0.54       300\n",
            "\n"
          ]
        }
      ],
      "source": [
        "cl_report3=classification_report(Y_test,X3_test_prediction)\n",
        "print('Classification Report : \\n',cl_report3)"
      ]
    },
    {
      "cell_type": "code",
      "execution_count": null,
      "metadata": {
        "colab": {
          "base_uri": "https://localhost:8080/"
        },
        "id": "HywCog3wB4Bo",
        "outputId": "e8c1dfe8-99d7-4405-87af-8ae5015d2a04"
      },
      "outputs": [
        {
          "output_type": "stream",
          "name": "stdout",
          "text": [
            "[[81 79]\n",
            " [59 81]]\n"
          ]
        }
      ],
      "source": [
        "cf_matrix4=confusion_matrix(Y_test,X3_test_prediction)\n",
        "print(cf_matrix4)"
      ]
    },
    {
      "cell_type": "code",
      "execution_count": null,
      "metadata": {
        "colab": {
          "base_uri": "https://localhost:8080/"
        },
        "id": "RX-Oubt_CE5Q",
        "outputId": "ccb925cc-4a31-470d-d966-77e5e6c6d9e5"
      },
      "outputs": [
        {
          "output_type": "stream",
          "name": "stdout",
          "text": [
            "81 79 59 81\n"
          ]
        }
      ],
      "source": [
        "tn, fp, fn, tp = cf_matrix4.ravel()\n",
        "\n",
        "print(tn, fp, fn, tp)"
      ]
    },
    {
      "cell_type": "code",
      "execution_count": null,
      "metadata": {
        "colab": {
          "base_uri": "https://localhost:8080/",
          "height": 466
        },
        "id": "wGdvNcaZCPDt",
        "outputId": "e2ec9db8-9816-407b-b2b5-29273f1df8cd"
      },
      "outputs": [
        {
          "output_type": "execute_result",
          "data": {
            "text/plain": [
              "<function matplotlib.pyplot.show(close=None, block=None)>"
            ]
          },
          "metadata": {},
          "execution_count": 60
        },
        {
          "output_type": "display_data",
          "data": {
            "text/plain": [
              "<Figure size 640x480 with 2 Axes>"
            ],
            "image/png": "[encoded data removed]"
          },
          "metadata": {}
        }
      ],
      "source": [
        "sns.heatmap(cf_matrix4,annot=True,fmt='d',cmap='Blues')\n",
        "plt.xlabel('Actual label')\n",
        "plt.ylabel('Predicted label')\n",
        "plt.show"
      ]
    },
    {
      "cell_type": "markdown",
      "metadata": {
        "id": "vnyu4rsxuwrA"
      },
      "source": [
        "XGboost"
      ]
    },
    {
      "cell_type": "code",
      "execution_count": null,
      "metadata": {
        "colab": {
          "base_uri": "https://localhost:8080/",
          "height": 248
        },
        "id": "YBGEctLYuuDP",
        "outputId": "97d8908c-1ddb-4228-9052-8fad8fb32fea"
      },
      "outputs": [
        {
          "output_type": "execute_result",
          "data": {
            "text/plain": [
              "XGBClassifier(base_score=None, booster=None, callbacks=None,\n",
              "              colsample_bylevel=None, colsample_bynode=None,\n",
              "              colsample_bytree=None, early_stopping_rounds=None,\n",
              "              enable_categorical=False, eval_metric=None, feature_types=None,\n",
              "              gamma=None, gpu_id=None, grow_policy=None, importance_type=None,\n",
              "              interaction_constraints=None, learning_rate=None, max_bin=None,\n",
              "              max_cat_threshold=None, max_cat_to_onehot=None,\n",
              "              max_delta_step=None, max_depth=None, max_leaves=None,\n",
              "              min_child_weight=None, missing=nan, monotone_constraints=None,\n",
              "              n_estimators=100, n_jobs=None, num_parallel_tree=None,\n",
              "              predictor=None, random_state=None, ...)"
            ],
            "text/html": [
              "<style>#sk-container-id-5 {color: black;background-color: white;}#sk-container-id-5 pre{padding: 0;}#sk-container-id-5 div.sk-toggleable {background-color: white;}#sk-container-id-5 label.sk-toggleable__label {cursor: pointer;display: block;width: 100%;margin-bottom: 0;padding: 0.3em;box-sizing: border-box;text-align: center;}#sk-container-id-5 label.sk-toggleable__label-arrow:before {content: \"▸\";float: left;margin-right: 0.25em;color: #696969;}#sk-container-id-5 label.sk-toggleable__label-arrow:hover:before {color: black;}#sk-container-id-5 div.sk-estimator:hover label.sk-toggleable__label-arrow:before {color: black;}#sk-container-id-5 div.sk-toggleable__content {max-height: 0;max-width: 0;overflow: hidden;text-align: left;background-color: #f0f8ff;}#sk-container-id-5 div.sk-toggleable__content pre {margin: 0.2em;color: black;border-radius: 0.25em;background-color: #f0f8ff;}#sk-container-id-5 input.sk-toggleable__control:checked~div.sk-toggleable__content {max-height: 200px;max-width: 100%;overflow: auto;}#sk-container-id-5 input.sk-toggleable__control:checked~label.sk-toggleable__label-arrow:before {content: \"▾\";}#sk-container-id-5 div.sk-estimator input.sk-toggleable__control:checked~label.sk-toggleable__label {background-color: #d4ebff;}#sk-container-id-5 div.sk-label input.sk-toggleable__control:checked~label.sk-toggleable__label {background-color: #d4ebff;}#sk-container-id-5 input.sk-hidden--visually {border: 0;clip: rect(1px 1px 1px 1px);clip: rect(1px, 1px, 1px, 1px);height: 1px;margin: -1px;overflow: hidden;padding: 0;position: absolute;width: 1px;}#sk-container-id-5 div.sk-estimator {font-family: monospace;background-color: #f0f8ff;border: 1px dotted black;border-radius: 0.25em;box-sizing: border-box;margin-bottom: 0.5em;}#sk-container-id-5 div.sk-estimator:hover {background-color: #d4ebff;}#sk-container-id-5 div.sk-parallel-item::after {content: \"\";width: 100%;border-bottom: 1px solid gray;flex-grow: 1;}#sk-container-id-5 div.sk-label:hover label.sk-toggleable__label {background-color: #d4ebff;}#sk-container-id-5 div.sk-serial::before {content: \"\";position: absolute;border-left: 1px solid gray;box-sizing: border-box;top: 0;bottom: 0;left: 50%;z-index: 0;}#sk-container-id-5 div.sk-serial {display: flex;flex-direction: column;align-items: center;background-color: white;padding-right: 0.2em;padding-left: 0.2em;position: relative;}#sk-container-id-5 div.sk-item {position: relative;z-index: 1;}#sk-container-id-5 div.sk-parallel {display: flex;align-items: stretch;justify-content: center;background-color: white;position: relative;}#sk-container-id-5 div.sk-item::before, #sk-container-id-5 div.sk-parallel-item::before {content: \"\";position: absolute;border-left: 1px solid gray;box-sizing: border-box;top: 0;bottom: 0;left: 50%;z-index: -1;}#sk-container-id-5 div.sk-parallel-item {display: flex;flex-direction: column;z-index: 1;position: relative;background-color: white;}#sk-container-id-5 div.sk-parallel-item:first-child::after {align-self: flex-end;width: 50%;}#sk-container-id-5 div.sk-parallel-item:last-child::after {align-self: flex-start;width: 50%;}#sk-container-id-5 div.sk-parallel-item:only-child::after {width: 0;}#sk-container-id-5 div.sk-dashed-wrapped {border: 1px dashed gray;margin: 0 0.4em 0.5em 0.4em;box-sizing: border-box;padding-bottom: 0.4em;background-color: white;}#sk-container-id-5 div.sk-label label {font-family: monospace;font-weight: bold;display: inline-block;line-height: 1.2em;}#sk-container-id-5 div.sk-label-container {text-align: center;}#sk-container-id-5 div.sk-container {/* jupyter's `normalize.less` sets `[hidden] { display: none; }` but bootstrap.min.css set `[hidden] { display: none !important; }` so we also need the `!important` here to be able to override the default hidden behavior on the sphinx rendered scikit-learn.org. See: https://github.com/scikit-learn/scikit-learn/issues/21755 */display: inline-block !important;position: relative;}#sk-container-id-5 div.sk-text-repr-fallback {display: none;}</style><div id=\"sk-container-id-5\" class=\"sk-top-container\"><div class=\"sk-text-repr-fallback\"><pre>XGBClassifier(base_score=None, booster=None, callbacks=None,\n",
              "              colsample_bylevel=None, colsample_bynode=None,\n",
              "              colsample_bytree=None, early_stopping_rounds=None,\n",
              "              enable_categorical=False, eval_metric=None, feature_types=None,\n",
              "              gamma=None, gpu_id=None, grow_policy=None, importance_type=None,\n",
              "              interaction_constraints=None, learning_rate=None, max_bin=None,\n",
              "              max_cat_threshold=None, max_cat_to_onehot=None,\n",
              "              max_delta_step=None, max_depth=None, max_leaves=None,\n",
              "              min_child_weight=None, missing=nan, monotone_constraints=None,\n",
              "              n_estimators=100, n_jobs=None, num_parallel_tree=None,\n",
              "              predictor=None, random_state=None, ...)</pre><b>In a Jupyter environment, please rerun this cell to show the HTML representation or trust the notebook. <br />On GitHub, the HTML representation is unable to render, please try loading this page with nbviewer.org.</b></div><div class=\"sk-container\" hidden><div class=\"sk-item\"><div class=\"sk-estimator sk-toggleable\"><input class=\"sk-toggleable__control sk-hidden--visually\" id=\"sk-estimator-id-5\" type=\"checkbox\" checked><label for=\"sk-estimator-id-5\" class=\"sk-toggleable__label sk-toggleable__label-arrow\">XGBClassifier</label><div class=\"sk-toggleable__content\"><pre>XGBClassifier(base_score=None, booster=None, callbacks=None,\n",
              "              colsample_bylevel=None, colsample_bynode=None,\n",
              "              colsample_bytree=None, early_stopping_rounds=None,\n",
              "              enable_categorical=False, eval_metric=None, feature_types=None,\n",
              "              gamma=None, gpu_id=None, grow_policy=None, importance_type=None,\n",
              "              interaction_constraints=None, learning_rate=None, max_bin=None,\n",
              "              max_cat_threshold=None, max_cat_to_onehot=None,\n",
              "              max_delta_step=None, max_depth=None, max_leaves=None,\n",
              "              min_child_weight=None, missing=nan, monotone_constraints=None,\n",
              "              n_estimators=100, n_jobs=None, num_parallel_tree=None,\n",
              "              predictor=None, random_state=None, ...)</pre></div></div></div></div></div>"
            ]
          },
          "metadata": {},
          "execution_count": 61
        }
      ],
      "source": [
        "from xgboost import XGBClassifier\n",
        "xclf = XGBClassifier()\n",
        "xclf.fit(X_train,Y_train)"
      ]
    },
    {
      "cell_type": "code",
      "execution_count": null,
      "metadata": {
        "colab": {
          "base_uri": "https://localhost:8080/"
        },
        "id": "inKkNdcsvSsI",
        "outputId": "f5f52227-a6f4-4bdf-b2e8-0fc7395b9fcf"
      },
      "outputs": [
        {
          "output_type": "stream",
          "name": "stdout",
          "text": [
            "Accuracy score of training data using xgboost : 1.0\n"
          ]
        }
      ],
      "source": [
        "X4_train_prediction = xclf.predict(X_train)\n",
        "training4_data_accuracy = accuracy_score(X4_train_prediction,Y_train)\n",
        "print('Accuracy score of training data using xgboost :',training4_data_accuracy)"
      ]
    },
    {
      "cell_type": "code",
      "execution_count": null,
      "metadata": {
        "colab": {
          "base_uri": "https://localhost:8080/"
        },
        "id": "PeVGa7_ovYDP",
        "outputId": "33b9b528-1f45-4fcd-983f-4ccf39946ede"
      },
      "outputs": [
        {
          "output_type": "stream",
          "name": "stdout",
          "text": [
            "Accuracy score of testing data using xgboost : 0.9966666666666667\n"
          ]
        }
      ],
      "source": [
        "X4_test_prediction = xclf.predict(X_test)\n",
        "testing4_data_accuracy = accuracy_score(X4_test_prediction,Y_test)\n",
        "print('Accuracy score of testing data using xgboost :',testing4_data_accuracy)"
      ]
    },
    {
      "cell_type": "code",
      "execution_count": null,
      "metadata": {
        "colab": {
          "base_uri": "https://localhost:8080/"
        },
        "id": "p-e2jA4veQgt",
        "outputId": "74c184c7-a9e4-40e0-9749-4090f7a480d9"
      },
      "outputs": [
        {
          "output_type": "stream",
          "name": "stdout",
          "text": [
            "Precision value for training data:  1.0\n",
            "Precision value for testing data:  0.9929078014184397\n"
          ]
        }
      ],
      "source": [
        "precision4_train= precision_score(Y_train,X4_train_prediction)\n",
        "print('Precision value for training data: ',precision4_train)\n",
        "precision4_test=precision_score(Y_test,X4_test_prediction)\n",
        "print('Precision value for testing data: ',precision4_test)"
      ]
    },
    {
      "cell_type": "code",
      "execution_count": null,
      "metadata": {
        "colab": {
          "base_uri": "https://localhost:8080/"
        },
        "id": "1RE-_BfonuZ1",
        "outputId": "9c8c9874-8c74-47b3-e280-caa5b83d9694"
      },
      "outputs": [
        {
          "output_type": "stream",
          "name": "stdout",
          "text": [
            "Recall value for training data:  1.0\n",
            "Recall value for testing data:  1.0\n"
          ]
        }
      ],
      "source": [
        "recall5_train=recall_score(Y_train,X4_train_prediction)\n",
        "print('Recall value for training data: ',recall5_train)\n",
        "\n",
        "recall5_test=recall_score(Y_test,X4_test_prediction)\n",
        "print('Recall value for testing data: ',recall5_test)"
      ]
    },
    {
      "cell_type": "code",
      "execution_count": null,
      "metadata": {
        "colab": {
          "base_uri": "https://localhost:8080/"
        },
        "id": "iuJha4QkqFTy",
        "outputId": "4a6e53f9-a742-4c3d-cabe-6c945d55f691"
      },
      "outputs": [
        {
          "output_type": "stream",
          "name": "stdout",
          "text": [
            "f1 value for testing data:  1.0\n",
            "f1 value for testing data:  0.9964412811387899\n"
          ]
        }
      ],
      "source": [
        "f1_5_train=f1_score(X4_train_prediction,Y_train)\n",
        "print('f1 value for testing data: ',f1_5_train)\n",
        "\n",
        "f1_5_test=f1_score(X4_test_prediction,Y_test)\n",
        "print('f1 value for testing data: ',f1_5_test)"
      ]
    },
    {
      "cell_type": "code",
      "execution_count": null,
      "metadata": {
        "colab": {
          "base_uri": "https://localhost:8080/"
        },
        "id": "B5qMwnXHvu-I",
        "outputId": "4c09f132-8f66-4d46-cd6d-2c730d3e72ba"
      },
      "outputs": [
        {
          "output_type": "stream",
          "name": "stdout",
          "text": [
            "Classification Report : \n",
            "               precision    recall  f1-score   support\n",
            "\n",
            "           0       1.00      0.99      1.00       160\n",
            "           1       0.99      1.00      1.00       140\n",
            "\n",
            "    accuracy                           1.00       300\n",
            "   macro avg       1.00      1.00      1.00       300\n",
            "weighted avg       1.00      1.00      1.00       300\n",
            "\n"
          ]
        }
      ],
      "source": [
        "cl_report4=classification_report(Y_test,X4_test_prediction)\n",
        "print('Classification Report : \\n',cl_report4)"
      ]
    },
    {
      "cell_type": "code",
      "execution_count": null,
      "metadata": {
        "colab": {
          "base_uri": "https://localhost:8080/"
        },
        "id": "8u7lAHEqDg14",
        "outputId": "9b7f792c-9e6e-4c39-e1d4-139c6b70baea"
      },
      "outputs": [
        {
          "output_type": "stream",
          "name": "stdout",
          "text": [
            "[[159   1]\n",
            " [  0 140]]\n"
          ]
        }
      ],
      "source": [
        "cf_matrix5=confusion_matrix(Y_test,X4_test_prediction)\n",
        "print(cf_matrix5)"
      ]
    },
    {
      "cell_type": "code",
      "execution_count": null,
      "metadata": {
        "colab": {
          "base_uri": "https://localhost:8080/"
        },
        "id": "qtEQDtViEPHB",
        "outputId": "76c004f8-129e-4d99-dd46-ddf03433cbac"
      },
      "outputs": [
        {
          "output_type": "stream",
          "name": "stdout",
          "text": [
            "159 1 0 140\n"
          ]
        }
      ],
      "source": [
        "tn, fp, fn, tp = cf_matrix5.ravel()\n",
        "\n",
        "print(tn, fp, fn, tp)"
      ]
    },
    {
      "cell_type": "code",
      "execution_count": null,
      "metadata": {
        "colab": {
          "base_uri": "https://localhost:8080/",
          "height": 466
        },
        "id": "5nAJNrdiEVD4",
        "outputId": "e874ad9d-7b87-428c-c83d-1f7d194c80f9"
      },
      "outputs": [
        {
          "output_type": "execute_result",
          "data": {
            "text/plain": [
              "<function matplotlib.pyplot.show(close=None, block=None)>"
            ]
          },
          "metadata": {},
          "execution_count": 70
        },
        {
          "output_type": "display_data",
          "data": {
            "text/plain": [
              "<Figure size 640x480 with 2 Axes>"
            ],
            "image/png": "[encoded data removed]"
          },
          "metadata": {}
        }
      ],
      "source": [
        "sns.heatmap(cf_matrix5,annot=True,fmt='d',cmap='Blues')\n",
        "plt.xlabel('Actual label')\n",
        "plt.ylabel('Predicted label')\n",
        "plt.show"
      ]
    },
    {
      "cell_type": "markdown",
      "metadata": {
        "id": "fPldiuFzv5Tj"
      },
      "source": [
        "Decision Tree"
      ]
    },
    {
      "cell_type": "code",
      "execution_count": null,
      "metadata": {
        "colab": {
          "base_uri": "https://localhost:8080/",
          "height": 75
        },
        "id": "So2gc18Ov3kk",
        "outputId": "38a03786-0a22-437c-d561-7d5f02fec1e2"
      },
      "outputs": [
        {
          "output_type": "execute_result",
          "data": {
            "text/plain": [
              "DecisionTreeClassifier()"
            ],
            "text/html": [
              "<style>#sk-container-id-6 {color: black;background-color: white;}#sk-container-id-6 pre{padding: 0;}#sk-container-id-6 div.sk-toggleable {background-color: white;}#sk-container-id-6 label.sk-toggleable__label {cursor: pointer;display: block;width: 100%;margin-bottom: 0;padding: 0.3em;box-sizing: border-box;text-align: center;}#sk-container-id-6 label.sk-toggleable__label-arrow:before {content: \"▸\";float: left;margin-right: 0.25em;color: #696969;}#sk-container-id-6 label.sk-toggleable__label-arrow:hover:before {color: black;}#sk-container-id-6 div.sk-estimator:hover label.sk-toggleable__label-arrow:before {color: black;}#sk-container-id-6 div.sk-toggleable__content {max-height: 0;max-width: 0;overflow: hidden;text-align: left;background-color: #f0f8ff;}#sk-container-id-6 div.sk-toggleable__content pre {margin: 0.2em;color: black;border-radius: 0.25em;background-color: #f0f8ff;}#sk-container-id-6 input.sk-toggleable__control:checked~div.sk-toggleable__content {max-height: 200px;max-width: 100%;overflow: auto;}#sk-container-id-6 input.sk-toggleable__control:checked~label.sk-toggleable__label-arrow:before {content: \"▾\";}#sk-container-id-6 div.sk-estimator input.sk-toggleable__control:checked~label.sk-toggleable__label {background-color: #d4ebff;}#sk-container-id-6 div.sk-label input.sk-toggleable__control:checked~label.sk-toggleable__label {background-color: #d4ebff;}#sk-container-id-6 input.sk-hidden--visually {border: 0;clip: rect(1px 1px 1px 1px);clip: rect(1px, 1px, 1px, 1px);height: 1px;margin: -1px;overflow: hidden;padding: 0;position: absolute;width: 1px;}#sk-container-id-6 div.sk-estimator {font-family: monospace;background-color: #f0f8ff;border: 1px dotted black;border-radius: 0.25em;box-sizing: border-box;margin-bottom: 0.5em;}#sk-container-id-6 div.sk-estimator:hover {background-color: #d4ebff;}#sk-container-id-6 div.sk-parallel-item::after {content: \"\";width: 100%;border-bottom: 1px solid gray;flex-grow: 1;}#sk-container-id-6 div.sk-label:hover label.sk-toggleable__label {background-color: #d4ebff;}#sk-container-id-6 div.sk-serial::before {content: \"\";position: absolute;border-left: 1px solid gray;box-sizing: border-box;top: 0;bottom: 0;left: 50%;z-index: 0;}#sk-container-id-6 div.sk-serial {display: flex;flex-direction: column;align-items: center;background-color: white;padding-right: 0.2em;padding-left: 0.2em;position: relative;}#sk-container-id-6 div.sk-item {position: relative;z-index: 1;}#sk-container-id-6 div.sk-parallel {display: flex;align-items: stretch;justify-content: center;background-color: white;position: relative;}#sk-container-id-6 div.sk-item::before, #sk-container-id-6 div.sk-parallel-item::before {content: \"\";position: absolute;border-left: 1px solid gray;box-sizing: border-box;top: 0;bottom: 0;left: 50%;z-index: -1;}#sk-container-id-6 div.sk-parallel-item {display: flex;flex-direction: column;z-index: 1;position: relative;background-color: white;}#sk-container-id-6 div.sk-parallel-item:first-child::after {align-self: flex-end;width: 50%;}#sk-container-id-6 div.sk-parallel-item:last-child::after {align-self: flex-start;width: 50%;}#sk-container-id-6 div.sk-parallel-item:only-child::after {width: 0;}#sk-container-id-6 div.sk-dashed-wrapped {border: 1px dashed gray;margin: 0 0.4em 0.5em 0.4em;box-sizing: border-box;padding-bottom: 0.4em;background-color: white;}#sk-container-id-6 div.sk-label label {font-family: monospace;font-weight: bold;display: inline-block;line-height: 1.2em;}#sk-container-id-6 div.sk-label-container {text-align: center;}#sk-container-id-6 div.sk-container {/* jupyter's `normalize.less` sets `[hidden] { display: none; }` but bootstrap.min.css set `[hidden] { display: none !important; }` so we also need the `!important` here to be able to override the default hidden behavior on the sphinx rendered scikit-learn.org. See: https://github.com/scikit-learn/scikit-learn/issues/21755 */display: inline-block !important;position: relative;}#sk-container-id-6 div.sk-text-repr-fallback {display: none;}</style><div id=\"sk-container-id-6\" class=\"sk-top-container\"><div class=\"sk-text-repr-fallback\"><pre>DecisionTreeClassifier()</pre><b>In a Jupyter environment, please rerun this cell to show the HTML representation or trust the notebook. <br />On GitHub, the HTML representation is unable to render, please try loading this page with nbviewer.org.</b></div><div class=\"sk-container\" hidden><div class=\"sk-item\"><div class=\"sk-estimator sk-toggleable\"><input class=\"sk-toggleable__control sk-hidden--visually\" id=\"sk-estimator-id-6\" type=\"checkbox\" checked><label for=\"sk-estimator-id-6\" class=\"sk-toggleable__label sk-toggleable__label-arrow\">DecisionTreeClassifier</label><div class=\"sk-toggleable__content\"><pre>DecisionTreeClassifier()</pre></div></div></div></div></div>"
            ]
          },
          "metadata": {},
          "execution_count": 71
        }
      ],
      "source": [
        "from sklearn import tree\n",
        "tclf = tree.DecisionTreeClassifier()\n",
        "tclf.fit(X_train,Y_train)"
      ]
    },
    {
      "cell_type": "code",
      "execution_count": null,
      "metadata": {
        "colab": {
          "base_uri": "https://localhost:8080/"
        },
        "id": "EHylKLcPwG0h",
        "outputId": "b2ebee8c-c7b2-443e-ef0a-32a6cd476118"
      },
      "outputs": [
        {
          "output_type": "stream",
          "name": "stdout",
          "text": [
            "Accuracy score of training data using Decision Tree : 1.0\n"
          ]
        }
      ],
      "source": [
        "X5_train_prediction = tclf.predict(X_train)\n",
        "training5_data_accuracy = accuracy_score(X5_train_prediction,Y_train)\n",
        "print('Accuracy score of training data using Decision Tree :',training5_data_accuracy)"
      ]
    },
    {
      "cell_type": "code",
      "execution_count": null,
      "metadata": {
        "colab": {
          "base_uri": "https://localhost:8080/"
        },
        "id": "TKZxrmlbwLkR",
        "outputId": "1bdfada9-6695-4305-b6d8-0acf26116a49"
      },
      "outputs": [
        {
          "output_type": "stream",
          "name": "stdout",
          "text": [
            "Accuracy score of testing data using Decision Tree : 0.9966666666666667\n"
          ]
        }
      ],
      "source": [
        "X5_test_prediction = tclf.predict(X_test)\n",
        "testing5_data_accuracy = accuracy_score(X5_test_prediction,Y_test)\n",
        "print('Accuracy score of testing data using Decision Tree :',testing5_data_accuracy)"
      ]
    },
    {
      "cell_type": "code",
      "execution_count": null,
      "metadata": {
        "colab": {
          "base_uri": "https://localhost:8080/"
        },
        "id": "uM8Ikm4SecXu",
        "outputId": "ed24dd85-420b-49cb-a130-2a84afe70f2d"
      },
      "outputs": [
        {
          "output_type": "stream",
          "name": "stdout",
          "text": [
            "Precision value for training data:  1.0\n",
            "Precision value for testing data:  0.9929078014184397\n"
          ]
        }
      ],
      "source": [
        "precision5_train= precision_score(Y_train,X5_train_prediction)\n",
        "print('Precision value for training data: ',precision5_train)\n",
        "precision5_test=precision_score(Y_test,X5_test_prediction)\n",
        "print('Precision value for testing data: ',precision5_test)"
      ]
    },
    {
      "cell_type": "code",
      "execution_count": null,
      "metadata": {
        "colab": {
          "base_uri": "https://localhost:8080/"
        },
        "id": "dKw_aUjbn6U7",
        "outputId": "347832f5-48bd-46e8-e710-aa108e9889bb"
      },
      "outputs": [
        {
          "output_type": "stream",
          "name": "stdout",
          "text": [
            "Recall value for training data:  1.0\n",
            "Recall value for testing data:  1.0\n"
          ]
        }
      ],
      "source": [
        "recall6_train=recall_score(Y_train,X5_train_prediction)\n",
        "print('Recall value for training data: ',recall6_train)\n",
        "\n",
        "recall6_test=recall_score(Y_test,X5_test_prediction)\n",
        "print('Recall value for testing data: ',recall6_test)"
      ]
    },
    {
      "cell_type": "code",
      "execution_count": null,
      "metadata": {
        "colab": {
          "base_uri": "https://localhost:8080/"
        },
        "id": "i3IU9ttLptXV",
        "outputId": "9ec7de87-f9d1-43c5-95f7-5fd7fb08fe93"
      },
      "outputs": [
        {
          "output_type": "stream",
          "name": "stdout",
          "text": [
            "f1 value for testing data:  1.0\n",
            "f1 value for testing data:  0.9964412811387899\n"
          ]
        }
      ],
      "source": [
        "f1_6_train=f1_score(X5_train_prediction,Y_train)\n",
        "print('f1 value for testing data: ',f1_6_train)\n",
        "f1_6_test=f1_score(X5_test_prediction,Y_test)\n",
        "print('f1 value for testing data: ',f1_6_test)"
      ]
    },
    {
      "cell_type": "code",
      "execution_count": null,
      "metadata": {
        "colab": {
          "base_uri": "https://localhost:8080/"
        },
        "id": "rkIBNq4EwP3X",
        "outputId": "ec8c4da6-369b-4465-e449-1bb5e003aab5"
      },
      "outputs": [
        {
          "output_type": "stream",
          "name": "stdout",
          "text": [
            "Classification Report : \n",
            "               precision    recall  f1-score   support\n",
            "\n",
            "           0       1.00      0.99      1.00       160\n",
            "           1       0.99      1.00      1.00       140\n",
            "\n",
            "    accuracy                           1.00       300\n",
            "   macro avg       1.00      1.00      1.00       300\n",
            "weighted avg       1.00      1.00      1.00       300\n",
            "\n"
          ]
        }
      ],
      "source": [
        "cl_report5=classification_report(Y_test,X5_test_prediction)\n",
        "print('Classification Report : \\n',cl_report5)"
      ]
    },
    {
      "cell_type": "code",
      "execution_count": null,
      "metadata": {
        "colab": {
          "base_uri": "https://localhost:8080/"
        },
        "id": "2XjhRgDEE3ko",
        "outputId": "8158c535-0516-430d-a50f-9ad58d7e3f5f"
      },
      "outputs": [
        {
          "output_type": "stream",
          "name": "stdout",
          "text": [
            "[[159   1]\n",
            " [  0 140]]\n"
          ]
        }
      ],
      "source": [
        "cf_matrix6=confusion_matrix(Y_test,X5_test_prediction)\n",
        "print(cf_matrix6)"
      ]
    },
    {
      "cell_type": "code",
      "execution_count": null,
      "metadata": {
        "colab": {
          "base_uri": "https://localhost:8080/"
        },
        "id": "slFtUxstFBvI",
        "outputId": "069724c0-1cb6-41ba-d8d8-d3064542b357"
      },
      "outputs": [
        {
          "output_type": "stream",
          "name": "stdout",
          "text": [
            "159 1 0 140\n"
          ]
        }
      ],
      "source": [
        "tn, fp, fn, tp = cf_matrix6.ravel()\n",
        "\n",
        "print(tn, fp, fn, tp)"
      ]
    },
    {
      "cell_type": "code",
      "execution_count": null,
      "metadata": {
        "colab": {
          "base_uri": "https://localhost:8080/",
          "height": 466
        },
        "id": "vpBqeRDRFHlJ",
        "outputId": "9d1f45b0-063a-4d64-d87b-80129f5c5e24"
      },
      "outputs": [
        {
          "output_type": "execute_result",
          "data": {
            "text/plain": [
              "<function matplotlib.pyplot.show(close=None, block=None)>"
            ]
          },
          "metadata": {},
          "execution_count": 80
        },
        {
          "output_type": "display_data",
          "data": {
            "text/plain": [
              "<Figure size 640x480 with 2 Axes>"
            ],
            "image/png": "[encoded data removed]"
          },
          "metadata": {}
        }
      ],
      "source": [
        "sns.heatmap(cf_matrix6,annot=True,fmt='d',cmap='Blues')\n",
        "plt.xlabel('Actual label')\n",
        "plt.ylabel('Predicted label')\n",
        "plt.show"
      ]
    },
    {
      "cell_type": "markdown",
      "metadata": {
        "id": "YgMQWQjewt0U"
      },
      "source": [
        "Logistic Regression\n"
      ]
    },
    {
      "cell_type": "code",
      "execution_count": null,
      "metadata": {
        "colab": {
          "base_uri": "https://localhost:8080/",
          "height": 75
        },
        "id": "yCKCg7hSwWHL",
        "outputId": "bfa47b08-bec5-401e-b4c5-7894f22a7e69"
      },
      "outputs": [
        {
          "output_type": "execute_result",
          "data": {
            "text/plain": [
              "LogisticRegression(max_iter=1000)"
            ],
            "text/html": [
              "<style>#sk-container-id-7 {color: black;background-color: white;}#sk-container-id-7 pre{padding: 0;}#sk-container-id-7 div.sk-toggleable {background-color: white;}#sk-container-id-7 label.sk-toggleable__label {cursor: pointer;display: block;width: 100%;margin-bottom: 0;padding: 0.3em;box-sizing: border-box;text-align: center;}#sk-container-id-7 label.sk-toggleable__label-arrow:before {content: \"▸\";float: left;margin-right: 0.25em;color: #696969;}#sk-container-id-7 label.sk-toggleable__label-arrow:hover:before {color: black;}#sk-container-id-7 div.sk-estimator:hover label.sk-toggleable__label-arrow:before {color: black;}#sk-container-id-7 div.sk-toggleable__content {max-height: 0;max-width: 0;overflow: hidden;text-align: left;background-color: #f0f8ff;}#sk-container-id-7 div.sk-toggleable__content pre {margin: 0.2em;color: black;border-radius: 0.25em;background-color: #f0f8ff;}#sk-container-id-7 input.sk-toggleable__control:checked~div.sk-toggleable__content {max-height: 200px;max-width: 100%;overflow: auto;}#sk-container-id-7 input.sk-toggleable__control:checked~label.sk-toggleable__label-arrow:before {content: \"▾\";}#sk-container-id-7 div.sk-estimator input.sk-toggleable__control:checked~label.sk-toggleable__label {background-color: #d4ebff;}#sk-container-id-7 div.sk-label input.sk-toggleable__control:checked~label.sk-toggleable__label {background-color: #d4ebff;}#sk-container-id-7 input.sk-hidden--visually {border: 0;clip: rect(1px 1px 1px 1px);clip: rect(1px, 1px, 1px, 1px);height: 1px;margin: -1px;overflow: hidden;padding: 0;position: absolute;width: 1px;}#sk-container-id-7 div.sk-estimator {font-family: monospace;background-color: #f0f8ff;border: 1px dotted black;border-radius: 0.25em;box-sizing: border-box;margin-bottom: 0.5em;}#sk-container-id-7 div.sk-estimator:hover {background-color: #d4ebff;}#sk-container-id-7 div.sk-parallel-item::after {content: \"\";width: 100%;border-bottom: 1px solid gray;flex-grow: 1;}#sk-container-id-7 div.sk-label:hover label.sk-toggleable__label {background-color: #d4ebff;}#sk-container-id-7 div.sk-serial::before {content: \"\";position: absolute;border-left: 1px solid gray;box-sizing: border-box;top: 0;bottom: 0;left: 50%;z-index: 0;}#sk-container-id-7 div.sk-serial {display: flex;flex-direction: column;align-items: center;background-color: white;padding-right: 0.2em;padding-left: 0.2em;position: relative;}#sk-container-id-7 div.sk-item {position: relative;z-index: 1;}#sk-container-id-7 div.sk-parallel {display: flex;align-items: stretch;justify-content: center;background-color: white;position: relative;}#sk-container-id-7 div.sk-item::before, #sk-container-id-7 div.sk-parallel-item::before {content: \"\";position: absolute;border-left: 1px solid gray;box-sizing: border-box;top: 0;bottom: 0;left: 50%;z-index: -1;}#sk-container-id-7 div.sk-parallel-item {display: flex;flex-direction: column;z-index: 1;position: relative;background-color: white;}#sk-container-id-7 div.sk-parallel-item:first-child::after {align-self: flex-end;width: 50%;}#sk-container-id-7 div.sk-parallel-item:last-child::after {align-self: flex-start;width: 50%;}#sk-container-id-7 div.sk-parallel-item:only-child::after {width: 0;}#sk-container-id-7 div.sk-dashed-wrapped {border: 1px dashed gray;margin: 0 0.4em 0.5em 0.4em;box-sizing: border-box;padding-bottom: 0.4em;background-color: white;}#sk-container-id-7 div.sk-label label {font-family: monospace;font-weight: bold;display: inline-block;line-height: 1.2em;}#sk-container-id-7 div.sk-label-container {text-align: center;}#sk-container-id-7 div.sk-container {/* jupyter's `normalize.less` sets `[hidden] { display: none; }` but bootstrap.min.css set `[hidden] { display: none !important; }` so we also need the `!important` here to be able to override the default hidden behavior on the sphinx rendered scikit-learn.org. See: https://github.com/scikit-learn/scikit-learn/issues/21755 */display: inline-block !important;position: relative;}#sk-container-id-7 div.sk-text-repr-fallback {display: none;}</style><div id=\"sk-container-id-7\" class=\"sk-top-container\"><div class=\"sk-text-repr-fallback\"><pre>LogisticRegression(max_iter=1000)</pre><b>In a Jupyter environment, please rerun this cell to show the HTML representation or trust the notebook. <br />On GitHub, the HTML representation is unable to render, please try loading this page with nbviewer.org.</b></div><div class=\"sk-container\" hidden><div class=\"sk-item\"><div class=\"sk-estimator sk-toggleable\"><input class=\"sk-toggleable__control sk-hidden--visually\" id=\"sk-estimator-id-7\" type=\"checkbox\" checked><label for=\"sk-estimator-id-7\" class=\"sk-toggleable__label sk-toggleable__label-arrow\">LogisticRegression</label><div class=\"sk-toggleable__content\"><pre>LogisticRegression(max_iter=1000)</pre></div></div></div></div></div>"
            ]
          },
          "metadata": {},
          "execution_count": 81
        }
      ],
      "source": [
        "train = LogisticRegression(max_iter=1000)\n",
        "train.fit(X_train,Y_train)"
      ]
    },
    {
      "cell_type": "code",
      "execution_count": null,
      "metadata": {
        "colab": {
          "base_uri": "https://localhost:8080/"
        },
        "id": "AtaFx5pUw6Il",
        "outputId": "5fa78fb3-1ca8-4fa5-fe8f-defb878f28f1"
      },
      "outputs": [
        {
          "output_type": "stream",
          "name": "stdout",
          "text": [
            "Accuracy score of training data : 0.5685714285714286\n"
          ]
        }
      ],
      "source": [
        "X6_train_prediction = train.predict(X_train)\n",
        "training6_data_accuracy = accuracy_score(X6_train_prediction,Y_train)\n",
        "print('Accuracy score of training data :',training6_data_accuracy)"
      ]
    },
    {
      "cell_type": "code",
      "execution_count": null,
      "metadata": {
        "colab": {
          "base_uri": "https://localhost:8080/"
        },
        "id": "FfVGsbNexIvg",
        "outputId": "41b8c923-0c4d-4492-ceb1-4b6f2a8569bf"
      },
      "outputs": [
        {
          "output_type": "stream",
          "name": "stdout",
          "text": [
            "Accuracy score of test data : 0.53\n"
          ]
        }
      ],
      "source": [
        "X6_test_prediction = train.predict(X_test)\n",
        "test_data_accuracy = accuracy_score(X6_test_prediction,Y_test)\n",
        "print('Accuracy score of test data :',test_data_accuracy)"
      ]
    },
    {
      "cell_type": "code",
      "execution_count": null,
      "metadata": {
        "colab": {
          "base_uri": "https://localhost:8080/"
        },
        "id": "5WyhpcE4eiOw",
        "outputId": "fcba57e3-12a7-460e-89f0-a3c24880027b"
      },
      "outputs": [
        {
          "output_type": "stream",
          "name": "stdout",
          "text": [
            "Precision value for training data:  0.5438066465256798\n",
            "Precision value for testing data:  0.498220640569395\n"
          ]
        }
      ],
      "source": [
        "precision6_train= precision_score(Y_train,X6_train_prediction)\n",
        "print('Precision value for training data: ',precision6_train)\n",
        "precision6_test=precision_score(Y_test,X6_test_prediction)\n",
        "print('Precision value for testing data: ',precision6_test)"
      ]
    },
    {
      "cell_type": "code",
      "execution_count": null,
      "metadata": {
        "colab": {
          "base_uri": "https://localhost:8080/"
        },
        "id": "H0E6DqPKoJga",
        "outputId": "888f23d5-f84d-4861-ba9c-c32e694df9bb"
      },
      "outputs": [
        {
          "output_type": "stream",
          "name": "stdout",
          "text": [
            "Recall value for training data:  1.0\n",
            "Recall value for testing data:  1.0\n"
          ]
        }
      ],
      "source": [
        "recall7_train=recall_score(Y_train,X6_train_prediction)\n",
        "print('Recall value for training data: ',recall7_train)\n",
        "\n",
        "recall7_test=recall_score(Y_test,X6_test_prediction)\n",
        "print('Recall value for testing data: ',recall7_test)"
      ]
    },
    {
      "cell_type": "code",
      "execution_count": null,
      "metadata": {
        "colab": {
          "base_uri": "https://localhost:8080/"
        },
        "id": "kA6-q4KipTzy",
        "outputId": "6666b83b-8312-495f-b4ba-deec14b7b4dc"
      },
      "outputs": [
        {
          "output_type": "stream",
          "name": "stdout",
          "text": [
            "f1 value for testing data:  0.7045009784735813\n",
            "f1 value for testing data:  0.665083135391924\n"
          ]
        }
      ],
      "source": [
        "f1_7_train=f1_score(X6_train_prediction,Y_train)\n",
        "print('f1 value for testing data: ',f1_7_train)\n",
        "f1_7_test=f1_score(X6_test_prediction,Y_test)\n",
        "print('f1 value for testing data: ',f1_7_test)"
      ]
    },
    {
      "cell_type": "code",
      "execution_count": null,
      "metadata": {
        "colab": {
          "base_uri": "https://localhost:8080/"
        },
        "id": "-mlrMo9LxXzX",
        "outputId": "41c753f8-235e-4cbc-99ea-0e7579171859"
      },
      "outputs": [
        {
          "output_type": "stream",
          "name": "stdout",
          "text": [
            "Classification Report : \n",
            "               precision    recall  f1-score   support\n",
            "\n",
            "           0       1.00      0.12      0.21       160\n",
            "           1       0.50      1.00      0.67       140\n",
            "\n",
            "    accuracy                           0.53       300\n",
            "   macro avg       0.75      0.56      0.44       300\n",
            "weighted avg       0.77      0.53      0.42       300\n",
            "\n"
          ]
        }
      ],
      "source": [
        "cl_report6=classification_report(Y_test,X6_test_prediction)\n",
        "print('Classification Report : \\n',cl_report6)"
      ]
    },
    {
      "cell_type": "code",
      "execution_count": null,
      "metadata": {
        "colab": {
          "base_uri": "https://localhost:8080/"
        },
        "id": "JRAeXbMjxhvV",
        "outputId": "f443bcaf-6454-4821-e6f6-684d21140d7e"
      },
      "outputs": [
        {
          "output_type": "stream",
          "name": "stdout",
          "text": [
            "[[ 19 141]\n",
            " [  0 140]]\n"
          ]
        }
      ],
      "source": [
        "cf_matrix7=confusion_matrix(Y_test,X6_test_prediction)\n",
        "print(cf_matrix7)"
      ]
    },
    {
      "cell_type": "code",
      "execution_count": null,
      "metadata": {
        "colab": {
          "base_uri": "https://localhost:8080/"
        },
        "id": "elG68KMMFeCy",
        "outputId": "f9fc6cda-d3f2-4dd0-a10e-09f16cadde76"
      },
      "outputs": [
        {
          "output_type": "stream",
          "name": "stdout",
          "text": [
            "19 141 0 140\n"
          ]
        }
      ],
      "source": [
        "tn, fp, fn, tp = cf_matrix7.ravel()\n",
        "\n",
        "print(tn, fp, fn, tp)"
      ]
    },
    {
      "cell_type": "code",
      "execution_count": null,
      "metadata": {
        "colab": {
          "base_uri": "https://localhost:8080/",
          "height": 469
        },
        "id": "HsB9SHYiFjXu",
        "outputId": "41074467-9316-4b60-92f5-cb8e35f8ec6d"
      },
      "outputs": [
        {
          "output_type": "execute_result",
          "data": {
            "text/plain": [
              "<function matplotlib.pyplot.show(close=None, block=None)>"
            ]
          },
          "metadata": {},
          "execution_count": 90
        },
        {
          "output_type": "display_data",
          "data": {
            "text/plain": [
              "<Figure size 640x480 with 2 Axes>"
            ],
            "image/png": "[encoded data removed]"
          },
          "metadata": {}
        }
      ],
      "source": [
        "sns.heatmap(cf_matrix7,annot=True,fmt='d',cmap='Blues')\n",
        "plt.xlabel('Actual label')\n",
        "plt.ylabel('Predicted label')\n",
        "plt.show"
      ]
    },
    {
      "cell_type": "markdown",
      "metadata": {
        "id": "gQbQie-5GLMY"
      },
      "source": [
        "ROC Curve"
      ]
    },
    {
      "cell_type": "code",
      "execution_count": null,
      "metadata": {
        "id": "8idEOEHbGQFp"
      },
      "outputs": [],
      "source": [
        "#Prediction Probabilities\n",
        "r_probs=[ 0 for _ in range(len(Y_test))]\n",
        "rf_probs=rfclr.predict_proba(X_test)\n",
        "svm_probs=sclf.predict_proba(X_test)\n",
        "xg_probs=xclf.predict_proba(X_test)\n",
        "nb_probs=mnnb.predict_proba(X_test)\n",
        "knn_probs=kclf.predict_proba(X_test)\n",
        "dt_probs=tclf.predict_proba(X_test)\n",
        "lr_probs=train.predict_proba(X_test)"
      ]
    },
    {
      "cell_type": "code",
      "execution_count": null,
      "metadata": {
        "id": "edR8MR0LHdd1"
      },
      "outputs": [],
      "source": [
        "svm_probs=svm_probs[:,1]\n",
        "rf_probs = rf_probs[:,1]\n",
        "xg_probs = xg_probs[:,1]\n",
        "nb_probs = nb_probs[:,1]\n",
        "knn_probs = knn_probs[:,1]\n",
        "dt_probs = dt_probs[:,1]\n",
        "lr_probs = lr_probs[:,1]"
      ]
    },
    {
      "cell_type": "code",
      "execution_count": null,
      "metadata": {
        "id": "YQLGBxSNMzA7"
      },
      "outputs": [],
      "source": [
        "svm_auc = roc_auc_score(Y_test,svm_probs)\n",
        "rf_auc = roc_auc_score(Y_test,rf_probs)\n",
        "xg_auc = roc_auc_score(Y_test,xg_probs)\n",
        "nb_auc = roc_auc_score(Y_test,nb_probs)\n",
        "knn_auc = roc_auc_score(Y_test,knn_probs)\n",
        "dt_auc = roc_auc_score(Y_test,dt_probs)\n",
        "lr_auc = roc_auc_score(Y_test,lr_probs)"
      ]
    },
    {
      "cell_type": "code",
      "execution_count": null,
      "metadata": {
        "colab": {
          "base_uri": "https://localhost:8080/"
        },
        "id": "GRmuOtYFQQ-x",
        "outputId": "7d296c85-a525-4792-e005-d4a587286834"
      },
      "outputs": [
        {
          "output_type": "stream",
          "name": "stdout",
          "text": [
            "Support vector machine : AUROC = 0.77 \n",
            "Random Forest : AUROC = 1.00 \n",
            "XGboost : AUROC = 1.00 \n",
            "Multinomial Naive Bayes : AUROC = 0.48 \n",
            "K-Nearest Neighbors : AUROC = 0.99 \n",
            "Decision Tree : AUROC = 1.00 \n",
            "Logistic Regression : AUROC = 0.82 \n"
          ]
        }
      ],
      "source": [
        "print('Support vector machine : AUROC = %0.2f '%(svm_auc))\n",
        "print('Random Forest : AUROC = %0.2f '%(rf_auc))\n",
        "print('XGboost : AUROC = %0.2f '%(xg_auc))\n",
        "print('Multinomial Naive Bayes : AUROC = %0.2f '%(nb_auc))\n",
        "print('K-Nearest Neighbors : AUROC = %0.2f '%(knn_auc))\n",
        "print('Decision Tree : AUROC = %0.2f '%(dt_auc))\n",
        "print('Logistic Regression : AUROC = %0.2f '%(lr_auc))"
      ]
    },
    {
      "cell_type": "code",
      "execution_count": null,
      "metadata": {
        "id": "EpcQHoKrQu18"
      },
      "outputs": [],
      "source": [
        "  # Predicting the test set results\n",
        "  svm_fpr, svm_tpr, _=roc_curve(Y_test,svm_probs)\n",
        "  rf_fpr, rf_tpr, _=roc_curve(Y_test,rf_probs)\n",
        "  xg_fpr, xg_tpr, _=roc_curve(Y_test,xg_probs)\n",
        "  nb_fpr, nb_tpr, _=roc_curve(Y_test,nb_probs)\n",
        "  knn_fpr, knn_tpr, _=roc_curve(Y_test,knn_probs)\n",
        "  dt_fpr, dt_tpr, _=roc_curve(Y_test,dt_probs)\n",
        "  lr_fpr, lr_tpr, _=roc_curve(Y_test,lr_probs)"
      ]
    },
    {
      "cell_type": "code",
      "execution_count": null,
      "metadata": {
        "id": "HXAR3QzERB57"
      },
      "outputs": [],
      "source": [
        " def plot_roc_curve(svm_fpr, svm_tpr):\n",
        "   plt.plot(svm_fpr, svm_tpr, marker='.',label='Support vector machine : AUROC = %0.2f '%(svm_auc))\n",
        "   plt.xlabel('False Positive Rate')\n",
        "   plt.ylabel('Trude Positive Rtae')\n",
        "   plt.title('Receiver Operating Charateristic(ROC) Curve')\n",
        "   plt.legend()\n",
        "   plt.show()"
      ]
    },
    {
      "cell_type": "code",
      "execution_count": null,
      "metadata": {
        "colab": {
          "base_uri": "https://localhost:8080/",
          "height": 472
        },
        "id": "N7ww_6ykRXem",
        "outputId": "5c820c36-3e64-484f-9f66-35fce61364d5"
      },
      "outputs": [
        {
          "output_type": "display_data",
          "data": {
            "text/plain": [
              "<Figure size 640x480 with 1 Axes>"
            ],
            "image/png": "[encoded data removed]"
          },
          "metadata": {}
        }
      ],
      "source": [
        "plot_roc_curve(svm_fpr, svm_tpr)"
      ]
    },
    {
      "cell_type": "code",
      "execution_count": null,
      "metadata": {
        "id": "l0TrvYkrRkkv"
      },
      "outputs": [],
      "source": [
        " def plot_roc_curve(rf_fpr, rf_tpr):\n",
        "   plt.plot(rf_fpr, rf_tpr, marker='.',label='Random Forest : AUROC = %0.2f '%(rf_auc))\n",
        "   plt.xlabel('False Positive Rate')\n",
        "   plt.ylabel('Trude Positive Rtae')\n",
        "   plt.title('Receiver Operating Charateristic(ROC) Curve')\n",
        "   plt.legend()\n",
        "   plt.show()"
      ]
    },
    {
      "cell_type": "code",
      "execution_count": null,
      "metadata": {
        "colab": {
          "base_uri": "https://localhost:8080/",
          "height": 472
        },
        "id": "JGH8oclASRp8",
        "outputId": "c7dcedc5-c41c-4f18-a7de-de3f269a63e5"
      },
      "outputs": [
        {
          "output_type": "display_data",
          "data": {
            "text/plain": [
              "<Figure size 640x480 with 1 Axes>"
            ],
            "image/png": "[encoded data removed]"
          },
          "metadata": {}
        }
      ],
      "source": [
        " plot_roc_curve(rf_fpr, rf_tpr)"
      ]
    },
    {
      "cell_type": "code",
      "execution_count": null,
      "metadata": {
        "id": "4lDfo6j9SZrM"
      },
      "outputs": [],
      "source": [
        "def plot_roc_curve(nb_fpr, nb_tpr):\n",
        "   plt.plot(nb_fpr, nb_tpr, marker='.',label='Multinomail naive bayes : AUROC = %0.2f '%(nb_auc))\n",
        "   plt.xlabel('False Positive Rate')\n",
        "   plt.ylabel('True Positive Rtae')\n",
        "   plt.title('Receiver Operating Charateristic(ROC) Curve')\n",
        "   plt.legend()\n",
        "   plt.show()"
      ]
    },
    {
      "cell_type": "code",
      "execution_count": null,
      "metadata": {
        "colab": {
          "base_uri": "https://localhost:8080/",
          "height": 472
        },
        "id": "ipXZ4jHjSzx7",
        "outputId": "38aea333-d24e-4720-bc9a-6b6ad4dc834c"
      },
      "outputs": [
        {
          "output_type": "display_data",
          "data": {
            "text/plain": [
              "<Figure size 640x480 with 1 Axes>"
            ],
            "image/png": "[encoded data removed]"
          },
          "metadata": {}
        }
      ],
      "source": [
        "plot_roc_curve(nb_fpr, nb_tpr)"
      ]
    },
    {
      "cell_type": "code",
      "execution_count": null,
      "metadata": {
        "id": "NOn2rUP5S4nK"
      },
      "outputs": [],
      "source": [
        "def plot_roc_curve(rf_fpr, rf_tpr):\n",
        "   plt.plot(knn_fpr, knn_tpr, marker='*',label='K-nearest Neighbour : AUROC = %0.2f '%(knn_auc))\n",
        "   plt.xlabel('False Positive Rate')\n",
        "   plt.ylabel('Trude Positive Rtae')\n",
        "   plt.title('Receiver Operating Charateristic(ROC) Curve')\n",
        "   plt.legend()\n",
        "   plt.show()"
      ]
    },
    {
      "cell_type": "code",
      "execution_count": null,
      "metadata": {
        "colab": {
          "base_uri": "https://localhost:8080/",
          "height": 472
        },
        "id": "HoqtOuTjTQ5g",
        "outputId": "e9d7ac95-3f79-4ec2-be5f-bab8c73c8578"
      },
      "outputs": [
        {
          "output_type": "display_data",
          "data": {
            "text/plain": [
              "<Figure size 640x480 with 1 Axes>"
            ],
            "image/png": "[encoded data removed]"
          },
          "metadata": {}
        }
      ],
      "source": [
        " plot_roc_curve(rf_fpr, rf_tpr)"
      ]
    },
    {
      "cell_type": "code",
      "execution_count": null,
      "metadata": {
        "id": "oCNcbbfSTTuv"
      },
      "outputs": [],
      "source": [
        "def plot_roc_curve(rf_fpr, rf_tpr):\n",
        "   plt.plot(dt_fpr, dt_tpr, marker='.',label='Decision Tree : AUROC = %0.2f '%(dt_auc))\n",
        "   plt.xlabel('False Positive Rate')\n",
        "   plt.ylabel('Trude Positive Rtae')\n",
        "   plt.title('Receiver Operating Charateristic(ROC) Curve')\n",
        "   plt.legend()\n",
        "   plt.show()"
      ]
    },
    {
      "cell_type": "code",
      "execution_count": null,
      "metadata": {
        "colab": {
          "base_uri": "https://localhost:8080/",
          "height": 472
        },
        "id": "RFTbbUu4TaeE",
        "outputId": "325499c8-4799-436f-bb51-da8eac977c61"
      },
      "outputs": [
        {
          "output_type": "display_data",
          "data": {
            "text/plain": [
              "<Figure size 640x480 with 1 Axes>"
            ],
            "image/png": "[encoded data removed]"
          },
          "metadata": {}
        }
      ],
      "source": [
        " plot_roc_curve(rf_fpr, rf_tpr)"
      ]
    },
    {
      "cell_type": "code",
      "execution_count": null,
      "metadata": {
        "id": "D6uhjDAcTdRe"
      },
      "outputs": [],
      "source": [
        "def plot_roc_curve(rf_fpr, rf_tpr):\n",
        "   plt.plot(lr_fpr, lr_tpr, marker='.',label='Logistic Regression : AUROC = %0.2f '%(lr_auc))\n",
        "   plt.xlabel('False Positive Rate')\n",
        "   plt.ylabel('Trude Positive Rtae')\n",
        "   plt.title('Receiver Operating Charateristic(ROC) Curve')\n",
        "   plt.legend()\n",
        "   plt.show()"
      ]
    },
    {
      "cell_type": "code",
      "execution_count": null,
      "metadata": {
        "colab": {
          "base_uri": "https://localhost:8080/",
          "height": 472
        },
        "id": "iw5LbO1zTrE0",
        "outputId": "a4d1dbee-52c0-462f-ea4f-ca2d3ce71c77"
      },
      "outputs": [
        {
          "output_type": "display_data",
          "data": {
            "text/plain": [
              "<Figure size 640x480 with 1 Axes>"
            ],
            "image/png": "[encoded data removed]"
          },
          "metadata": {}
        }
      ],
      "source": [
        " plot_roc_curve(rf_fpr, rf_tpr)"
      ]
    },
    {
      "cell_type": "code",
      "execution_count": null,
      "metadata": {
        "id": "68261SmKTvXV"
      },
      "outputs": [],
      "source": [
        "def plot_roc_curve(rf_fpr, rf_tpr):\n",
        "   plt.plot(xg_fpr, xg_tpr, marker='.',label='XGboost : AUROC = %0.2f '%(xg_auc))\n",
        "   plt.xlabel('False Positive Rate')\n",
        "   plt.ylabel('Trude Positive Rtae')\n",
        "   plt.title('Receiver Operating Charateristic(ROC) Curve')\n",
        "   plt.legend()\n",
        "   plt.show()"
      ]
    },
    {
      "cell_type": "code",
      "execution_count": null,
      "metadata": {
        "colab": {
          "base_uri": "https://localhost:8080/",
          "height": 472
        },
        "id": "quHeZpXBURgV",
        "outputId": "8da3817d-f122-43e5-de41-58a40f20adb7"
      },
      "outputs": [
        {
          "output_type": "display_data",
          "data": {
            "text/plain": [
              "<Figure size 640x480 with 1 Axes>"
            ],
            "image/png": "[encoded data removed]"
          },
          "metadata": {}
        }
      ],
      "source": [
        "plot_roc_curve(rf_fpr, rf_tpr)"
      ]
    },
    {
      "cell_type": "code",
      "execution_count": null,
      "metadata": {
        "id": "clB46E54UUUL"
      },
      "outputs": [],
      "source": [
        "def plot_roc_curve(rf_fpr, rf_tpr):\n",
        "   plt.plot(svm_fpr, svm_tpr, marker='.',label='Support vector machine : AUROC = %0.2f '%(svm_auc))\n",
        "   plt.plot(rf_fpr, rf_tpr, marker='.',label='Random Forest : AUROC = %0.2f '%(rf_auc))\n",
        "   plt.plot(xg_fpr, xg_tpr, marker='.',label='XGboost : AUROC = %0.2f '%(xg_auc))\n",
        "   plt.plot(nb_fpr, nb_tpr, marker='.',label='Multinomial Naive Bayes : AUROC = %0.2f '%(nb_auc))\n",
        "   plt.plot(knn_fpr, knn_tpr, marker='.',label='K-Nearest Neighbors : AUROC = %0.2f '%(knn_auc))\n",
        "   plt.plot(dt_fpr, dt_tpr, marker='.',label='Decision Tree : AUROC = %0.2f '%(dt_auc))\n",
        "   plt.plot(lr_fpr, lr_tpr, marker='.',label='Logistic Regression : AUROC = %0.2f '%(lr_auc))\n",
        "   plt.xlabel('False Positive Rate')\n",
        "   plt.ylabel('Trude Positive Rtae')\n",
        "   plt.title('Receiver Operating Charateristic(ROC) Curve')\n",
        "   plt.legend()\n",
        "   plt.show()"
      ]
    },
    {
      "cell_type": "code",
      "execution_count": null,
      "metadata": {
        "colab": {
          "base_uri": "https://localhost:8080/",
          "height": 472
        },
        "id": "TCPLfAKqUzhy",
        "outputId": "74721ca1-1999-4553-b51f-b71f11ac23b9"
      },
      "outputs": [
        {
          "output_type": "display_data",
          "data": {
            "text/plain": [
              "<Figure size 640x480 with 1 Axes>"
            ],
            "image/png": "[encoded data removed]"
          },
          "metadata": {}
        }
      ],
      "source": [
        "plot_roc_curve(rf_fpr, rf_tpr)"
      ]
    },
    {
      "cell_type": "markdown",
      "metadata": {
        "id": "aCEPZHU0B0xH"
      },
      "source": []
    },
    {
      "cell_type": "code",
      "execution_count": null,
      "metadata": {
        "colab": {
          "base_uri": "https://localhost:8080/",
          "height": 472
        },
        "id": "TUGe8WzVCXl5",
        "outputId": "df417d2c-f8ed-4f85-ec31-0dfd60cd2a84"
      },
      "outputs": [
        {
          "output_type": "display_data",
          "data": {
            "text/plain": [
              "<Figure size 640x480 with 1 Axes>"
            ],
            "image/png": "[encoded data removed]"
          },
          "metadata": {}
        }
      ],
      "source": [
        "# Define the models and their results\n",
        "models = ['Support vector machine', 'Random Forest', 'XGboost','Multinomial Naive Bayes','K-Nearest Neighbors','Decision Tree','Logistic Regression']\n",
        "accuracies = [0.79, 0.99, 0.96,0.55,0.54,0.99,0.99]\n",
        "#precisions = [0.82, 0.88, 0.91]\n",
        "#recalls = [0.84, 0.89, 0.90]\n",
        "\n",
        "# Create a bar chart to compare the results\n",
        "x = [i for i, _ in enumerate(models)]\n",
        "width = 0.50\n",
        "hieght=1.0\n",
        "\n",
        "plt.bar(x, accuracies, width, label='Accuracy')\n",
        "#plt.bar([i + width for i in x], precisions, width, label='Precision')\n",
        "#plt.bar([i + width*2 for i in x], recalls, width, label='Recall')\n",
        "\n",
        "# Add labels and titles to the plot\n",
        "plt.xlabel('Models')\n",
        "plt.ylabel('Scores')\n",
        "plt.title('Model Comparison')\n",
        "plt.xticks([i + width for i in x], models)\n",
        "plt.legend(loc='best')\n",
        "\n",
        "# Show the plot\n",
        "plt.show()"
      ]
    }
  ],
  "metadata": {
    "colab": {
      "provenance": [],
      "include_colab_link": true
    },
    "kernelspec": {
      "display_name": "Python 3",
      "name": "python3"
    }
  },
  "nbformat": 4,
  "nbformat_minor": 0
}